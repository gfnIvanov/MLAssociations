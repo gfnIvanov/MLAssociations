{
 "cells": [
  {
   "cell_type": "code",
   "execution_count": 21,
   "metadata": {},
   "outputs": [],
   "source": [
    "import re\n",
    "import sys\n",
    "import pandas as pd\n",
    "import numpy as np\n",
    "import plotly.express as px\n",
    "import networkx as nx\n",
    "import matplotlib.pyplot as plt\n",
    "from mlxtend.frequent_patterns import apriori\n",
    "from mlxtend.frequent_patterns import association_rules\n",
    "from mlxtend.preprocessing import TransactionEncoder"
   ]
  },
  {
   "cell_type": "code",
   "execution_count": 22,
   "metadata": {},
   "outputs": [
    {
     "data": {
      "text/html": [
       "<div>\n",
       "<style scoped>\n",
       "    .dataframe tbody tr th:only-of-type {\n",
       "        vertical-align: middle;\n",
       "    }\n",
       "\n",
       "    .dataframe tbody tr th {\n",
       "        vertical-align: top;\n",
       "    }\n",
       "\n",
       "    .dataframe thead th {\n",
       "        text-align: right;\n",
       "    }\n",
       "</style>\n",
       "<table border=\"1\" class=\"dataframe\">\n",
       "  <thead>\n",
       "    <tr style=\"text-align: right;\">\n",
       "      <th></th>\n",
       "      <th>дата</th>\n",
       "      <th>показатель</th>\n",
       "    </tr>\n",
       "  </thead>\n",
       "  <tbody>\n",
       "    <tr>\n",
       "      <th>0</th>\n",
       "      <td>2023-03-01</td>\n",
       "      <td>тепло</td>\n",
       "    </tr>\n",
       "    <tr>\n",
       "      <th>1</th>\n",
       "      <td>2023-03-01</td>\n",
       "      <td>высокая влажность воздуха</td>\n",
       "    </tr>\n",
       "    <tr>\n",
       "      <th>2</th>\n",
       "      <td>2023-03-01</td>\n",
       "      <td>низкое давление</td>\n",
       "    </tr>\n",
       "    <tr>\n",
       "      <th>3</th>\n",
       "      <td>2023-03-01</td>\n",
       "      <td>дождь</td>\n",
       "    </tr>\n",
       "    <tr>\n",
       "      <th>4</th>\n",
       "      <td>2023-03-02</td>\n",
       "      <td>мороз</td>\n",
       "    </tr>\n",
       "  </tbody>\n",
       "</table>\n",
       "</div>"
      ],
      "text/plain": [
       "        дата                 показатель\n",
       "0 2023-03-01                      тепло\n",
       "1 2023-03-01  высокая влажность воздуха\n",
       "2 2023-03-01            низкое давление\n",
       "3 2023-03-01                      дождь\n",
       "4 2023-03-02                      мороз"
      ]
     },
     "execution_count": 22,
     "metadata": {},
     "output_type": "execute_result"
    }
   ],
   "source": [
    "# загружаем исходные данные\n",
    "data = pd.read_excel('./data/weather.xlsx', engine=\"openpyxl\")\n",
    "data.head()"
   ]
  },
  {
   "cell_type": "code",
   "execution_count": 23,
   "metadata": {},
   "outputs": [
    {
     "data": {
      "text/plain": [
       "дата          0\n",
       "показатель    0\n",
       "dtype: int64"
      ]
     },
     "execution_count": 23,
     "metadata": {},
     "output_type": "execute_result"
    }
   ],
   "source": [
    "# проверяем данные на наличие пропусков\n",
    "is_nan = data.isna().sum()\n",
    "is_nan"
   ]
  },
  {
   "cell_type": "code",
   "execution_count": 24,
   "metadata": {},
   "outputs": [
    {
     "data": {
      "application/vnd.plotly.v1+json": {
       "config": {
        "plotlyServerURL": "https://plot.ly"
       },
       "data": [
        {
         "branchvalues": "total",
         "domain": {
          "x": [
           0,
           1
          ],
          "y": [
           0,
           1
          ]
         },
         "hovertemplate": "labels=%{label}<br>count=%{value}<br>parent=%{parent}<br>id=%{id}<extra></extra>",
         "ids": [
          "высокая влажность воздуха",
          "высокое давление",
          "гроза",
          "дождь",
          "жара",
          "метель",
          "мороз",
          "низкое давление",
          "снег",
          "тепло"
         ],
         "labels": [
          "высокая влажность воздуха",
          "высокое давление",
          "гроза",
          "дождь",
          "жара",
          "метель",
          "мороз",
          "низкое давление",
          "снег",
          "тепло"
         ],
         "name": "",
         "parents": [
          "",
          "",
          "",
          "",
          "",
          "",
          "",
          "",
          "",
          ""
         ],
         "textinfo": "label+value",
         "type": "treemap",
         "values": [
          7,
          3,
          3,
          9,
          3,
          7,
          10,
          6,
          7,
          12
         ]
        }
       ],
       "layout": {
        "legend": {
         "tracegroupgap": 0
        },
        "margin": {
         "t": 60
        },
        "template": {
         "data": {
          "bar": [
           {
            "error_x": {
             "color": "#2a3f5f"
            },
            "error_y": {
             "color": "#2a3f5f"
            },
            "marker": {
             "line": {
              "color": "#E5ECF6",
              "width": 0.5
             },
             "pattern": {
              "fillmode": "overlay",
              "size": 10,
              "solidity": 0.2
             }
            },
            "type": "bar"
           }
          ],
          "barpolar": [
           {
            "marker": {
             "line": {
              "color": "#E5ECF6",
              "width": 0.5
             },
             "pattern": {
              "fillmode": "overlay",
              "size": 10,
              "solidity": 0.2
             }
            },
            "type": "barpolar"
           }
          ],
          "carpet": [
           {
            "aaxis": {
             "endlinecolor": "#2a3f5f",
             "gridcolor": "white",
             "linecolor": "white",
             "minorgridcolor": "white",
             "startlinecolor": "#2a3f5f"
            },
            "baxis": {
             "endlinecolor": "#2a3f5f",
             "gridcolor": "white",
             "linecolor": "white",
             "minorgridcolor": "white",
             "startlinecolor": "#2a3f5f"
            },
            "type": "carpet"
           }
          ],
          "choropleth": [
           {
            "colorbar": {
             "outlinewidth": 0,
             "ticks": ""
            },
            "type": "choropleth"
           }
          ],
          "contour": [
           {
            "colorbar": {
             "outlinewidth": 0,
             "ticks": ""
            },
            "colorscale": [
             [
              0,
              "#0d0887"
             ],
             [
              0.1111111111111111,
              "#46039f"
             ],
             [
              0.2222222222222222,
              "#7201a8"
             ],
             [
              0.3333333333333333,
              "#9c179e"
             ],
             [
              0.4444444444444444,
              "#bd3786"
             ],
             [
              0.5555555555555556,
              "#d8576b"
             ],
             [
              0.6666666666666666,
              "#ed7953"
             ],
             [
              0.7777777777777778,
              "#fb9f3a"
             ],
             [
              0.8888888888888888,
              "#fdca26"
             ],
             [
              1,
              "#f0f921"
             ]
            ],
            "type": "contour"
           }
          ],
          "contourcarpet": [
           {
            "colorbar": {
             "outlinewidth": 0,
             "ticks": ""
            },
            "type": "contourcarpet"
           }
          ],
          "heatmap": [
           {
            "colorbar": {
             "outlinewidth": 0,
             "ticks": ""
            },
            "colorscale": [
             [
              0,
              "#0d0887"
             ],
             [
              0.1111111111111111,
              "#46039f"
             ],
             [
              0.2222222222222222,
              "#7201a8"
             ],
             [
              0.3333333333333333,
              "#9c179e"
             ],
             [
              0.4444444444444444,
              "#bd3786"
             ],
             [
              0.5555555555555556,
              "#d8576b"
             ],
             [
              0.6666666666666666,
              "#ed7953"
             ],
             [
              0.7777777777777778,
              "#fb9f3a"
             ],
             [
              0.8888888888888888,
              "#fdca26"
             ],
             [
              1,
              "#f0f921"
             ]
            ],
            "type": "heatmap"
           }
          ],
          "heatmapgl": [
           {
            "colorbar": {
             "outlinewidth": 0,
             "ticks": ""
            },
            "colorscale": [
             [
              0,
              "#0d0887"
             ],
             [
              0.1111111111111111,
              "#46039f"
             ],
             [
              0.2222222222222222,
              "#7201a8"
             ],
             [
              0.3333333333333333,
              "#9c179e"
             ],
             [
              0.4444444444444444,
              "#bd3786"
             ],
             [
              0.5555555555555556,
              "#d8576b"
             ],
             [
              0.6666666666666666,
              "#ed7953"
             ],
             [
              0.7777777777777778,
              "#fb9f3a"
             ],
             [
              0.8888888888888888,
              "#fdca26"
             ],
             [
              1,
              "#f0f921"
             ]
            ],
            "type": "heatmapgl"
           }
          ],
          "histogram": [
           {
            "marker": {
             "pattern": {
              "fillmode": "overlay",
              "size": 10,
              "solidity": 0.2
             }
            },
            "type": "histogram"
           }
          ],
          "histogram2d": [
           {
            "colorbar": {
             "outlinewidth": 0,
             "ticks": ""
            },
            "colorscale": [
             [
              0,
              "#0d0887"
             ],
             [
              0.1111111111111111,
              "#46039f"
             ],
             [
              0.2222222222222222,
              "#7201a8"
             ],
             [
              0.3333333333333333,
              "#9c179e"
             ],
             [
              0.4444444444444444,
              "#bd3786"
             ],
             [
              0.5555555555555556,
              "#d8576b"
             ],
             [
              0.6666666666666666,
              "#ed7953"
             ],
             [
              0.7777777777777778,
              "#fb9f3a"
             ],
             [
              0.8888888888888888,
              "#fdca26"
             ],
             [
              1,
              "#f0f921"
             ]
            ],
            "type": "histogram2d"
           }
          ],
          "histogram2dcontour": [
           {
            "colorbar": {
             "outlinewidth": 0,
             "ticks": ""
            },
            "colorscale": [
             [
              0,
              "#0d0887"
             ],
             [
              0.1111111111111111,
              "#46039f"
             ],
             [
              0.2222222222222222,
              "#7201a8"
             ],
             [
              0.3333333333333333,
              "#9c179e"
             ],
             [
              0.4444444444444444,
              "#bd3786"
             ],
             [
              0.5555555555555556,
              "#d8576b"
             ],
             [
              0.6666666666666666,
              "#ed7953"
             ],
             [
              0.7777777777777778,
              "#fb9f3a"
             ],
             [
              0.8888888888888888,
              "#fdca26"
             ],
             [
              1,
              "#f0f921"
             ]
            ],
            "type": "histogram2dcontour"
           }
          ],
          "mesh3d": [
           {
            "colorbar": {
             "outlinewidth": 0,
             "ticks": ""
            },
            "type": "mesh3d"
           }
          ],
          "parcoords": [
           {
            "line": {
             "colorbar": {
              "outlinewidth": 0,
              "ticks": ""
             }
            },
            "type": "parcoords"
           }
          ],
          "pie": [
           {
            "automargin": true,
            "type": "pie"
           }
          ],
          "scatter": [
           {
            "fillpattern": {
             "fillmode": "overlay",
             "size": 10,
             "solidity": 0.2
            },
            "type": "scatter"
           }
          ],
          "scatter3d": [
           {
            "line": {
             "colorbar": {
              "outlinewidth": 0,
              "ticks": ""
             }
            },
            "marker": {
             "colorbar": {
              "outlinewidth": 0,
              "ticks": ""
             }
            },
            "type": "scatter3d"
           }
          ],
          "scattercarpet": [
           {
            "marker": {
             "colorbar": {
              "outlinewidth": 0,
              "ticks": ""
             }
            },
            "type": "scattercarpet"
           }
          ],
          "scattergeo": [
           {
            "marker": {
             "colorbar": {
              "outlinewidth": 0,
              "ticks": ""
             }
            },
            "type": "scattergeo"
           }
          ],
          "scattergl": [
           {
            "marker": {
             "colorbar": {
              "outlinewidth": 0,
              "ticks": ""
             }
            },
            "type": "scattergl"
           }
          ],
          "scattermapbox": [
           {
            "marker": {
             "colorbar": {
              "outlinewidth": 0,
              "ticks": ""
             }
            },
            "type": "scattermapbox"
           }
          ],
          "scatterpolar": [
           {
            "marker": {
             "colorbar": {
              "outlinewidth": 0,
              "ticks": ""
             }
            },
            "type": "scatterpolar"
           }
          ],
          "scatterpolargl": [
           {
            "marker": {
             "colorbar": {
              "outlinewidth": 0,
              "ticks": ""
             }
            },
            "type": "scatterpolargl"
           }
          ],
          "scatterternary": [
           {
            "marker": {
             "colorbar": {
              "outlinewidth": 0,
              "ticks": ""
             }
            },
            "type": "scatterternary"
           }
          ],
          "surface": [
           {
            "colorbar": {
             "outlinewidth": 0,
             "ticks": ""
            },
            "colorscale": [
             [
              0,
              "#0d0887"
             ],
             [
              0.1111111111111111,
              "#46039f"
             ],
             [
              0.2222222222222222,
              "#7201a8"
             ],
             [
              0.3333333333333333,
              "#9c179e"
             ],
             [
              0.4444444444444444,
              "#bd3786"
             ],
             [
              0.5555555555555556,
              "#d8576b"
             ],
             [
              0.6666666666666666,
              "#ed7953"
             ],
             [
              0.7777777777777778,
              "#fb9f3a"
             ],
             [
              0.8888888888888888,
              "#fdca26"
             ],
             [
              1,
              "#f0f921"
             ]
            ],
            "type": "surface"
           }
          ],
          "table": [
           {
            "cells": {
             "fill": {
              "color": "#EBF0F8"
             },
             "line": {
              "color": "white"
             }
            },
            "header": {
             "fill": {
              "color": "#C8D4E3"
             },
             "line": {
              "color": "white"
             }
            },
            "type": "table"
           }
          ]
         },
         "layout": {
          "annotationdefaults": {
           "arrowcolor": "#2a3f5f",
           "arrowhead": 0,
           "arrowwidth": 1
          },
          "autotypenumbers": "strict",
          "coloraxis": {
           "colorbar": {
            "outlinewidth": 0,
            "ticks": ""
           }
          },
          "colorscale": {
           "diverging": [
            [
             0,
             "#8e0152"
            ],
            [
             0.1,
             "#c51b7d"
            ],
            [
             0.2,
             "#de77ae"
            ],
            [
             0.3,
             "#f1b6da"
            ],
            [
             0.4,
             "#fde0ef"
            ],
            [
             0.5,
             "#f7f7f7"
            ],
            [
             0.6,
             "#e6f5d0"
            ],
            [
             0.7,
             "#b8e186"
            ],
            [
             0.8,
             "#7fbc41"
            ],
            [
             0.9,
             "#4d9221"
            ],
            [
             1,
             "#276419"
            ]
           ],
           "sequential": [
            [
             0,
             "#0d0887"
            ],
            [
             0.1111111111111111,
             "#46039f"
            ],
            [
             0.2222222222222222,
             "#7201a8"
            ],
            [
             0.3333333333333333,
             "#9c179e"
            ],
            [
             0.4444444444444444,
             "#bd3786"
            ],
            [
             0.5555555555555556,
             "#d8576b"
            ],
            [
             0.6666666666666666,
             "#ed7953"
            ],
            [
             0.7777777777777778,
             "#fb9f3a"
            ],
            [
             0.8888888888888888,
             "#fdca26"
            ],
            [
             1,
             "#f0f921"
            ]
           ],
           "sequentialminus": [
            [
             0,
             "#0d0887"
            ],
            [
             0.1111111111111111,
             "#46039f"
            ],
            [
             0.2222222222222222,
             "#7201a8"
            ],
            [
             0.3333333333333333,
             "#9c179e"
            ],
            [
             0.4444444444444444,
             "#bd3786"
            ],
            [
             0.5555555555555556,
             "#d8576b"
            ],
            [
             0.6666666666666666,
             "#ed7953"
            ],
            [
             0.7777777777777778,
             "#fb9f3a"
            ],
            [
             0.8888888888888888,
             "#fdca26"
            ],
            [
             1,
             "#f0f921"
            ]
           ]
          },
          "colorway": [
           "#636efa",
           "#EF553B",
           "#00cc96",
           "#ab63fa",
           "#FFA15A",
           "#19d3f3",
           "#FF6692",
           "#B6E880",
           "#FF97FF",
           "#FECB52"
          ],
          "font": {
           "color": "#2a3f5f"
          },
          "geo": {
           "bgcolor": "white",
           "lakecolor": "white",
           "landcolor": "#E5ECF6",
           "showlakes": true,
           "showland": true,
           "subunitcolor": "white"
          },
          "hoverlabel": {
           "align": "left"
          },
          "hovermode": "closest",
          "mapbox": {
           "style": "light"
          },
          "paper_bgcolor": "white",
          "plot_bgcolor": "#E5ECF6",
          "polar": {
           "angularaxis": {
            "gridcolor": "white",
            "linecolor": "white",
            "ticks": ""
           },
           "bgcolor": "#E5ECF6",
           "radialaxis": {
            "gridcolor": "white",
            "linecolor": "white",
            "ticks": ""
           }
          },
          "scene": {
           "xaxis": {
            "backgroundcolor": "#E5ECF6",
            "gridcolor": "white",
            "gridwidth": 2,
            "linecolor": "white",
            "showbackground": true,
            "ticks": "",
            "zerolinecolor": "white"
           },
           "yaxis": {
            "backgroundcolor": "#E5ECF6",
            "gridcolor": "white",
            "gridwidth": 2,
            "linecolor": "white",
            "showbackground": true,
            "ticks": "",
            "zerolinecolor": "white"
           },
           "zaxis": {
            "backgroundcolor": "#E5ECF6",
            "gridcolor": "white",
            "gridwidth": 2,
            "linecolor": "white",
            "showbackground": true,
            "ticks": "",
            "zerolinecolor": "white"
           }
          },
          "shapedefaults": {
           "line": {
            "color": "#2a3f5f"
           }
          },
          "ternary": {
           "aaxis": {
            "gridcolor": "white",
            "linecolor": "white",
            "ticks": ""
           },
           "baxis": {
            "gridcolor": "white",
            "linecolor": "white",
            "ticks": ""
           },
           "bgcolor": "#E5ECF6",
           "caxis": {
            "gridcolor": "white",
            "linecolor": "white",
            "ticks": ""
           }
          },
          "title": {
           "x": 0.05
          },
          "xaxis": {
           "automargin": true,
           "gridcolor": "white",
           "linecolor": "white",
           "ticks": "",
           "title": {
            "standoff": 15
           },
           "zerolinecolor": "white",
           "zerolinewidth": 2
          },
          "yaxis": {
           "automargin": true,
           "gridcolor": "white",
           "linecolor": "white",
           "ticks": "",
           "title": {
            "standoff": 15
           },
           "zerolinecolor": "white",
           "zerolinewidth": 2
          }
         }
        },
        "title": {
         "font": {
          "size": 18
         },
         "text": "Показатели",
         "x": 0.5
        }
       }
      }
     },
     "metadata": {},
     "output_type": "display_data"
    }
   ],
   "source": [
    "# посмотрим на группы товаров\n",
    "Frequency_of_items = data.groupby(pd.Grouper(key='показатель')).size().reset_index(name='count')\n",
    "fig = px.treemap(Frequency_of_items, path=['показатель'], values='count')\n",
    "fig.update_layout(title_text='Показатели',\n",
    "                  title_x=0.5, title_font=dict(size=18))\n",
    "fig.update_traces(textinfo=\"label+value\")\n",
    "fig.show()"
   ]
  },
  {
   "cell_type": "code",
   "execution_count": 25,
   "metadata": {},
   "outputs": [
    {
     "data": {
      "text/plain": [
       "0    [тепло, высокая влажность воздуха, низкое давл...\n",
       "1                                        [мороз, снег]\n",
       "2                                [мороз, снег, метель]\n",
       "3                                              [мороз]\n",
       "4                                      [мороз, метель]\n",
       "Name: показатель, dtype: object"
      ]
     },
     "execution_count": 25,
     "metadata": {},
     "output_type": "execute_result"
    }
   ],
   "source": [
    "# группируем показатели по датам\n",
    "data['показатель'] = data['показатель'].transform(lambda x: [x])\n",
    "data = data.groupby(['дата']).sum()['показатель'].reset_index(drop=True)\n",
    "data.head()"
   ]
  },
  {
   "cell_type": "code",
   "execution_count": 26,
   "metadata": {},
   "outputs": [
    {
     "data": {
      "text/html": [
       "<div>\n",
       "<style scoped>\n",
       "    .dataframe tbody tr th:only-of-type {\n",
       "        vertical-align: middle;\n",
       "    }\n",
       "\n",
       "    .dataframe tbody tr th {\n",
       "        vertical-align: top;\n",
       "    }\n",
       "\n",
       "    .dataframe thead th {\n",
       "        text-align: right;\n",
       "    }\n",
       "</style>\n",
       "<table border=\"1\" class=\"dataframe\">\n",
       "  <thead>\n",
       "    <tr style=\"text-align: right;\">\n",
       "      <th></th>\n",
       "      <th>высокая влажность воздуха</th>\n",
       "      <th>высокое давление</th>\n",
       "      <th>гроза</th>\n",
       "      <th>дождь</th>\n",
       "      <th>жара</th>\n",
       "      <th>метель</th>\n",
       "      <th>мороз</th>\n",
       "      <th>низкое давление</th>\n",
       "      <th>снег</th>\n",
       "      <th>тепло</th>\n",
       "    </tr>\n",
       "  </thead>\n",
       "  <tbody>\n",
       "    <tr>\n",
       "      <th>0</th>\n",
       "      <td>True</td>\n",
       "      <td>False</td>\n",
       "      <td>False</td>\n",
       "      <td>True</td>\n",
       "      <td>False</td>\n",
       "      <td>False</td>\n",
       "      <td>False</td>\n",
       "      <td>True</td>\n",
       "      <td>False</td>\n",
       "      <td>True</td>\n",
       "    </tr>\n",
       "    <tr>\n",
       "      <th>1</th>\n",
       "      <td>False</td>\n",
       "      <td>False</td>\n",
       "      <td>False</td>\n",
       "      <td>False</td>\n",
       "      <td>False</td>\n",
       "      <td>False</td>\n",
       "      <td>True</td>\n",
       "      <td>False</td>\n",
       "      <td>True</td>\n",
       "      <td>False</td>\n",
       "    </tr>\n",
       "    <tr>\n",
       "      <th>2</th>\n",
       "      <td>False</td>\n",
       "      <td>False</td>\n",
       "      <td>False</td>\n",
       "      <td>False</td>\n",
       "      <td>False</td>\n",
       "      <td>True</td>\n",
       "      <td>True</td>\n",
       "      <td>False</td>\n",
       "      <td>True</td>\n",
       "      <td>False</td>\n",
       "    </tr>\n",
       "    <tr>\n",
       "      <th>3</th>\n",
       "      <td>False</td>\n",
       "      <td>False</td>\n",
       "      <td>False</td>\n",
       "      <td>False</td>\n",
       "      <td>False</td>\n",
       "      <td>False</td>\n",
       "      <td>True</td>\n",
       "      <td>False</td>\n",
       "      <td>False</td>\n",
       "      <td>False</td>\n",
       "    </tr>\n",
       "    <tr>\n",
       "      <th>4</th>\n",
       "      <td>False</td>\n",
       "      <td>False</td>\n",
       "      <td>False</td>\n",
       "      <td>False</td>\n",
       "      <td>False</td>\n",
       "      <td>True</td>\n",
       "      <td>True</td>\n",
       "      <td>False</td>\n",
       "      <td>False</td>\n",
       "      <td>False</td>\n",
       "    </tr>\n",
       "  </tbody>\n",
       "</table>\n",
       "</div>"
      ],
      "text/plain": [
       "   высокая влажность воздуха  высокое давление  гроза  дождь   жара  метель  \\\n",
       "0                       True             False  False   True  False   False   \n",
       "1                      False             False  False  False  False   False   \n",
       "2                      False             False  False  False  False    True   \n",
       "3                      False             False  False  False  False   False   \n",
       "4                      False             False  False  False  False    True   \n",
       "\n",
       "   мороз  низкое давление   снег  тепло  \n",
       "0  False             True  False   True  \n",
       "1   True            False   True  False  \n",
       "2   True            False   True  False  \n",
       "3   True            False  False  False  \n",
       "4   True            False  False  False  "
      ]
     },
     "execution_count": 26,
     "metadata": {},
     "output_type": "execute_result"
    }
   ],
   "source": [
    "# приводим данные к формату, который принимает функция apriori\n",
    "# показатели в данном случае это наши категориальные признаки\n",
    "# каждая строка это транзакция\n",
    "encoder = TransactionEncoder()\n",
    "transactions = pd.DataFrame(encoder.fit(data).transform(data), columns=encoder.columns_)\n",
    "transactions.head()"
   ]
  },
  {
   "cell_type": "code",
   "execution_count": 27,
   "metadata": {},
   "outputs": [
    {
     "name": "stdout",
     "output_type": "stream",
     "text": [
      "Frequent itemsets:\n"
     ]
    },
    {
     "data": {
      "text/html": [
       "<div>\n",
       "<style scoped>\n",
       "    .dataframe tbody tr th:only-of-type {\n",
       "        vertical-align: middle;\n",
       "    }\n",
       "\n",
       "    .dataframe tbody tr th {\n",
       "        vertical-align: top;\n",
       "    }\n",
       "\n",
       "    .dataframe thead th {\n",
       "        text-align: right;\n",
       "    }\n",
       "</style>\n",
       "<table border=\"1\" class=\"dataframe\">\n",
       "  <thead>\n",
       "    <tr style=\"text-align: right;\">\n",
       "      <th></th>\n",
       "      <th>support</th>\n",
       "      <th>itemsets</th>\n",
       "    </tr>\n",
       "  </thead>\n",
       "  <tbody>\n",
       "    <tr>\n",
       "      <th>29</th>\n",
       "      <td>0.032258</td>\n",
       "      <td>(тепло, снег)</td>\n",
       "    </tr>\n",
       "    <tr>\n",
       "      <th>26</th>\n",
       "      <td>0.032258</td>\n",
       "      <td>(мороз, низкое давление)</td>\n",
       "    </tr>\n",
       "    <tr>\n",
       "      <th>24</th>\n",
       "      <td>0.032258</td>\n",
       "      <td>(метель, низкое давление)</td>\n",
       "    </tr>\n",
       "    <tr>\n",
       "      <th>20</th>\n",
       "      <td>0.032258</td>\n",
       "      <td>(дождь, низкое давление)</td>\n",
       "    </tr>\n",
       "    <tr>\n",
       "      <th>19</th>\n",
       "      <td>0.032258</td>\n",
       "      <td>(мороз, дождь)</td>\n",
       "    </tr>\n",
       "    <tr>\n",
       "      <th>28</th>\n",
       "      <td>0.032258</td>\n",
       "      <td>(тепло, низкое давление)</td>\n",
       "    </tr>\n",
       "    <tr>\n",
       "      <th>17</th>\n",
       "      <td>0.064516</td>\n",
       "      <td>(гроза, жара)</td>\n",
       "    </tr>\n",
       "    <tr>\n",
       "      <th>15</th>\n",
       "      <td>0.064516</td>\n",
       "      <td>(дождь, высокое давление)</td>\n",
       "    </tr>\n",
       "    <tr>\n",
       "      <th>10</th>\n",
       "      <td>0.064516</td>\n",
       "      <td>(гроза, высокая влажность воздуха)</td>\n",
       "    </tr>\n",
       "    <tr>\n",
       "      <th>12</th>\n",
       "      <td>0.064516</td>\n",
       "      <td>(высокая влажность воздуха, жара)</td>\n",
       "    </tr>\n",
       "  </tbody>\n",
       "</table>\n",
       "</div>"
      ],
      "text/plain": [
       "     support                            itemsets\n",
       "29  0.032258                       (тепло, снег)\n",
       "26  0.032258            (мороз, низкое давление)\n",
       "24  0.032258           (метель, низкое давление)\n",
       "20  0.032258            (дождь, низкое давление)\n",
       "19  0.032258                      (мороз, дождь)\n",
       "28  0.032258            (тепло, низкое давление)\n",
       "17  0.064516                       (гроза, жара)\n",
       "15  0.064516           (дождь, высокое давление)\n",
       "10  0.064516  (гроза, высокая влажность воздуха)\n",
       "12  0.064516   (высокая влажность воздуха, жара)"
      ]
     },
     "metadata": {},
     "output_type": "display_data"
    },
    {
     "name": "stdout",
     "output_type": "stream",
     "text": [
      "Rules:\n",
      "antecedents - посылка\n",
      "consequents - следствие\n"
     ]
    },
    {
     "data": {
      "text/html": [
       "<div>\n",
       "<style scoped>\n",
       "    .dataframe tbody tr th:only-of-type {\n",
       "        vertical-align: middle;\n",
       "    }\n",
       "\n",
       "    .dataframe tbody tr th {\n",
       "        vertical-align: top;\n",
       "    }\n",
       "\n",
       "    .dataframe thead th {\n",
       "        text-align: right;\n",
       "    }\n",
       "</style>\n",
       "<table border=\"1\" class=\"dataframe\">\n",
       "  <thead>\n",
       "    <tr style=\"text-align: right;\">\n",
       "      <th></th>\n",
       "      <th>antecedents</th>\n",
       "      <th>consequents</th>\n",
       "      <th>antecedent support</th>\n",
       "      <th>consequent support</th>\n",
       "      <th>support</th>\n",
       "      <th>confidence</th>\n",
       "      <th>lift</th>\n",
       "      <th>leverage</th>\n",
       "      <th>conviction</th>\n",
       "    </tr>\n",
       "  </thead>\n",
       "  <tbody>\n",
       "    <tr>\n",
       "      <th>0</th>\n",
       "      <td>(гроза)</td>\n",
       "      <td>(жара)</td>\n",
       "      <td>0.096774</td>\n",
       "      <td>0.096774</td>\n",
       "      <td>0.064516</td>\n",
       "      <td>0.666667</td>\n",
       "      <td>6.888889</td>\n",
       "      <td>0.055151</td>\n",
       "      <td>2.709677</td>\n",
       "    </tr>\n",
       "    <tr>\n",
       "      <th>1</th>\n",
       "      <td>(жара)</td>\n",
       "      <td>(гроза)</td>\n",
       "      <td>0.096774</td>\n",
       "      <td>0.096774</td>\n",
       "      <td>0.064516</td>\n",
       "      <td>0.666667</td>\n",
       "      <td>6.888889</td>\n",
       "      <td>0.055151</td>\n",
       "      <td>2.709677</td>\n",
       "    </tr>\n",
       "    <tr>\n",
       "      <th>11</th>\n",
       "      <td>(низкое давление)</td>\n",
       "      <td>(гроза)</td>\n",
       "      <td>0.193548</td>\n",
       "      <td>0.096774</td>\n",
       "      <td>0.096774</td>\n",
       "      <td>0.500000</td>\n",
       "      <td>5.166667</td>\n",
       "      <td>0.078044</td>\n",
       "      <td>1.806452</td>\n",
       "    </tr>\n",
       "    <tr>\n",
       "      <th>8</th>\n",
       "      <td>(жара)</td>\n",
       "      <td>(низкое давление)</td>\n",
       "      <td>0.096774</td>\n",
       "      <td>0.193548</td>\n",
       "      <td>0.096774</td>\n",
       "      <td>1.000000</td>\n",
       "      <td>5.166667</td>\n",
       "      <td>0.078044</td>\n",
       "      <td>inf</td>\n",
       "    </tr>\n",
       "    <tr>\n",
       "      <th>9</th>\n",
       "      <td>(низкое давление)</td>\n",
       "      <td>(жара)</td>\n",
       "      <td>0.193548</td>\n",
       "      <td>0.096774</td>\n",
       "      <td>0.096774</td>\n",
       "      <td>0.500000</td>\n",
       "      <td>5.166667</td>\n",
       "      <td>0.078044</td>\n",
       "      <td>1.806452</td>\n",
       "    </tr>\n",
       "    <tr>\n",
       "      <th>10</th>\n",
       "      <td>(гроза)</td>\n",
       "      <td>(низкое давление)</td>\n",
       "      <td>0.096774</td>\n",
       "      <td>0.193548</td>\n",
       "      <td>0.096774</td>\n",
       "      <td>1.000000</td>\n",
       "      <td>5.166667</td>\n",
       "      <td>0.078044</td>\n",
       "      <td>inf</td>\n",
       "    </tr>\n",
       "    <tr>\n",
       "      <th>4</th>\n",
       "      <td>(гроза)</td>\n",
       "      <td>(высокая влажность воздуха)</td>\n",
       "      <td>0.096774</td>\n",
       "      <td>0.225806</td>\n",
       "      <td>0.064516</td>\n",
       "      <td>0.666667</td>\n",
       "      <td>2.952381</td>\n",
       "      <td>0.042664</td>\n",
       "      <td>2.322581</td>\n",
       "    </tr>\n",
       "    <tr>\n",
       "      <th>5</th>\n",
       "      <td>(высокая влажность воздуха)</td>\n",
       "      <td>(гроза)</td>\n",
       "      <td>0.225806</td>\n",
       "      <td>0.096774</td>\n",
       "      <td>0.064516</td>\n",
       "      <td>0.285714</td>\n",
       "      <td>2.952381</td>\n",
       "      <td>0.042664</td>\n",
       "      <td>1.264516</td>\n",
       "    </tr>\n",
       "    <tr>\n",
       "      <th>6</th>\n",
       "      <td>(высокая влажность воздуха)</td>\n",
       "      <td>(жара)</td>\n",
       "      <td>0.225806</td>\n",
       "      <td>0.096774</td>\n",
       "      <td>0.064516</td>\n",
       "      <td>0.285714</td>\n",
       "      <td>2.952381</td>\n",
       "      <td>0.042664</td>\n",
       "      <td>1.264516</td>\n",
       "    </tr>\n",
       "    <tr>\n",
       "      <th>7</th>\n",
       "      <td>(жара)</td>\n",
       "      <td>(высокая влажность воздуха)</td>\n",
       "      <td>0.096774</td>\n",
       "      <td>0.225806</td>\n",
       "      <td>0.064516</td>\n",
       "      <td>0.666667</td>\n",
       "      <td>2.952381</td>\n",
       "      <td>0.042664</td>\n",
       "      <td>2.322581</td>\n",
       "    </tr>\n",
       "  </tbody>\n",
       "</table>\n",
       "</div>"
      ],
      "text/plain": [
       "                    antecedents                  consequents  \\\n",
       "0                       (гроза)                       (жара)   \n",
       "1                        (жара)                      (гроза)   \n",
       "11            (низкое давление)                      (гроза)   \n",
       "8                        (жара)            (низкое давление)   \n",
       "9             (низкое давление)                       (жара)   \n",
       "10                      (гроза)            (низкое давление)   \n",
       "4                       (гроза)  (высокая влажность воздуха)   \n",
       "5   (высокая влажность воздуха)                      (гроза)   \n",
       "6   (высокая влажность воздуха)                       (жара)   \n",
       "7                        (жара)  (высокая влажность воздуха)   \n",
       "\n",
       "    antecedent support  consequent support   support  confidence      lift  \\\n",
       "0             0.096774            0.096774  0.064516    0.666667  6.888889   \n",
       "1             0.096774            0.096774  0.064516    0.666667  6.888889   \n",
       "11            0.193548            0.096774  0.096774    0.500000  5.166667   \n",
       "8             0.096774            0.193548  0.096774    1.000000  5.166667   \n",
       "9             0.193548            0.096774  0.096774    0.500000  5.166667   \n",
       "10            0.096774            0.193548  0.096774    1.000000  5.166667   \n",
       "4             0.096774            0.225806  0.064516    0.666667  2.952381   \n",
       "5             0.225806            0.096774  0.064516    0.285714  2.952381   \n",
       "6             0.225806            0.096774  0.064516    0.285714  2.952381   \n",
       "7             0.096774            0.225806  0.064516    0.666667  2.952381   \n",
       "\n",
       "    leverage  conviction  \n",
       "0   0.055151    2.709677  \n",
       "1   0.055151    2.709677  \n",
       "11  0.078044    1.806452  \n",
       "8   0.078044         inf  \n",
       "9   0.078044    1.806452  \n",
       "10  0.078044         inf  \n",
       "4   0.042664    2.322581  \n",
       "5   0.042664    1.264516  \n",
       "6   0.042664    1.264516  \n",
       "7   0.042664    2.322581  "
      ]
     },
     "metadata": {},
     "output_type": "display_data"
    },
    {
     "name": "stdout",
     "output_type": "stream",
     "text": [
      "Rules identified:  24\n"
     ]
    }
   ],
   "source": [
    "# frequent_itemsets - частые наборы данных\n",
    "# rules - наборы данных\n",
    "# min_support - минимальная поддержка. Подмножество не является частным если:\n",
    "### P(I) < min_support, где I — любой непустой набор элементов\n",
    "### Любое подмножество в наборе элементов имеет значение меньше минимальной поддержки\n",
    "frequent_itemsets = apriori(transactions, min_support=0.025, use_colnames=True, max_len=2).sort_values(by=\"support\")\n",
    "print('Frequent itemsets:')\n",
    "display(frequent_itemsets.head(10))\n",
    "rules = association_rules(frequent_itemsets, metric=\"lift\",  min_threshold = 1.5).sort_values('lift', ascending=False)\n",
    "print('Rules:')\n",
    "print('antecedents - посылка')\n",
    "print('consequents - следствие')\n",
    "display(rules.head(10))\n",
    "print(\"Rules identified: \", len(rules))"
   ]
  },
  {
   "cell_type": "code",
   "execution_count": 28,
   "metadata": {},
   "outputs": [
    {
     "data": {
      "image/png": "[encoded data removed]",
      "text/plain": [
       "<Figure size 640x480 with 1 Axes>"
      ]
     },
     "metadata": {},
     "output_type": "display_data"
    }
   ],
   "source": [
    "# визуализируем связь между продуктами в виде графа\n",
    "def draw_graph(rules, rules_count):\n",
    "    network = nx.DiGraph()\n",
    "\n",
    "    for i in range(rules_count):\n",
    "        # добавление узла правила\n",
    "        network.add_nodes_from(['R' + str(i)])\n",
    "        for antecedents in rules.iloc[i]['antecedents']:\n",
    "            # Добавление узла-предшественника и ссылки на правило\n",
    "            network.add_nodes_from([antecedents])\n",
    "            network.add_edge(antecedents, 'R' + str(i),  weight=2)\n",
    "            for consequents in rules.iloc[i]['consequents']:\n",
    "                # Добавление узла-последователя и ссылки на правило\n",
    "                network.add_nodes_from([consequents])\n",
    "                network.add_edge('R' + str(i), consequents,  weight = 2)\n",
    "\n",
    "    color_map=[]  \n",
    "  \n",
    "    # Для каждого узла, если это правило, цвет черный, в противном случае - оранжевый.\n",
    "    for node in network:\n",
    "        if re.compile(r'^[R]\\d+$').fullmatch(node) != None:\n",
    "            color_map.append('black')\n",
    "        else:\n",
    "            color_map.append('orange')\n",
    "  \n",
    "    # Расположение узлов с помощью spring layout\n",
    "    pos = nx.spring_layout(network, k=16, scale=1)\n",
    "    # Построение сетевого графа\n",
    "    nx.draw(network, pos, node_color = color_map, font_size=8)            \n",
    "  \n",
    "    # Сдвиг расположения текста вверх\n",
    "    for p in pos:  \n",
    "        pos[p][1] += 0.12\n",
    "\n",
    "    nx.draw_networkx_labels(network, pos)\n",
    "    plt.title('Network Graph for Association Rules')\n",
    "    plt.show()\n",
    "\n",
    "draw_graph(rules, 10)"
   ]
  },
  {
   "cell_type": "code",
   "execution_count": 29,
   "metadata": {},
   "outputs": [
    {
     "name": "stdout",
     "output_type": "stream",
     "text": [
      "Дождь:\n"
     ]
    },
    {
     "data": {
      "text/html": [
       "<div>\n",
       "<style scoped>\n",
       "    .dataframe tbody tr th:only-of-type {\n",
       "        vertical-align: middle;\n",
       "    }\n",
       "\n",
       "    .dataframe tbody tr th {\n",
       "        vertical-align: top;\n",
       "    }\n",
       "\n",
       "    .dataframe thead th {\n",
       "        text-align: right;\n",
       "    }\n",
       "</style>\n",
       "<table border=\"1\" class=\"dataframe\">\n",
       "  <thead>\n",
       "    <tr style=\"text-align: right;\">\n",
       "      <th></th>\n",
       "      <th>antecedents</th>\n",
       "      <th>consequents</th>\n",
       "      <th>antecedent support</th>\n",
       "      <th>consequent support</th>\n",
       "      <th>support</th>\n",
       "      <th>confidence</th>\n",
       "      <th>lift</th>\n",
       "      <th>leverage</th>\n",
       "      <th>conviction</th>\n",
       "    </tr>\n",
       "  </thead>\n",
       "  <tbody>\n",
       "    <tr>\n",
       "      <th>0</th>\n",
       "      <td>(высокое давление)</td>\n",
       "      <td>(дождь)</td>\n",
       "      <td>0.096774</td>\n",
       "      <td>0.290323</td>\n",
       "      <td>0.064516</td>\n",
       "      <td>0.666667</td>\n",
       "      <td>2.296296</td>\n",
       "      <td>0.036420</td>\n",
       "      <td>2.129032</td>\n",
       "    </tr>\n",
       "    <tr>\n",
       "      <th>1</th>\n",
       "      <td>(тепло)</td>\n",
       "      <td>(дождь)</td>\n",
       "      <td>0.387097</td>\n",
       "      <td>0.290323</td>\n",
       "      <td>0.193548</td>\n",
       "      <td>0.500000</td>\n",
       "      <td>1.722222</td>\n",
       "      <td>0.081165</td>\n",
       "      <td>1.419355</td>\n",
       "    </tr>\n",
       "  </tbody>\n",
       "</table>\n",
       "</div>"
      ],
      "text/plain": [
       "          antecedents consequents  antecedent support  consequent support  \\\n",
       "0  (высокое давление)     (дождь)            0.096774            0.290323   \n",
       "1             (тепло)     (дождь)            0.387097            0.290323   \n",
       "\n",
       "    support  confidence      lift  leverage  conviction  \n",
       "0  0.064516    0.666667  2.296296  0.036420    2.129032  \n",
       "1  0.193548    0.500000  1.722222  0.081165    1.419355  "
      ]
     },
     "metadata": {},
     "output_type": "display_data"
    },
    {
     "data": {
      "image/png": "[encoded data removed]",
      "text/plain": [
       "<Figure size 1000x500 with 1 Axes>"
      ]
     },
     "metadata": {},
     "output_type": "display_data"
    },
    {
     "name": "stdout",
     "output_type": "stream",
     "text": [
      "Гроза:\n"
     ]
    },
    {
     "data": {
      "text/html": [
       "<div>\n",
       "<style scoped>\n",
       "    .dataframe tbody tr th:only-of-type {\n",
       "        vertical-align: middle;\n",
       "    }\n",
       "\n",
       "    .dataframe tbody tr th {\n",
       "        vertical-align: top;\n",
       "    }\n",
       "\n",
       "    .dataframe thead th {\n",
       "        text-align: right;\n",
       "    }\n",
       "</style>\n",
       "<table border=\"1\" class=\"dataframe\">\n",
       "  <thead>\n",
       "    <tr style=\"text-align: right;\">\n",
       "      <th></th>\n",
       "      <th>antecedents</th>\n",
       "      <th>consequents</th>\n",
       "      <th>antecedent support</th>\n",
       "      <th>consequent support</th>\n",
       "      <th>support</th>\n",
       "      <th>confidence</th>\n",
       "      <th>lift</th>\n",
       "      <th>leverage</th>\n",
       "      <th>conviction</th>\n",
       "    </tr>\n",
       "  </thead>\n",
       "  <tbody>\n",
       "    <tr>\n",
       "      <th>0</th>\n",
       "      <td>(жара)</td>\n",
       "      <td>(гроза)</td>\n",
       "      <td>0.096774</td>\n",
       "      <td>0.096774</td>\n",
       "      <td>0.064516</td>\n",
       "      <td>0.666667</td>\n",
       "      <td>6.888889</td>\n",
       "      <td>0.055151</td>\n",
       "      <td>2.709677</td>\n",
       "    </tr>\n",
       "    <tr>\n",
       "      <th>1</th>\n",
       "      <td>(низкое давление)</td>\n",
       "      <td>(гроза)</td>\n",
       "      <td>0.193548</td>\n",
       "      <td>0.096774</td>\n",
       "      <td>0.096774</td>\n",
       "      <td>0.500000</td>\n",
       "      <td>5.166667</td>\n",
       "      <td>0.078044</td>\n",
       "      <td>1.806452</td>\n",
       "    </tr>\n",
       "    <tr>\n",
       "      <th>2</th>\n",
       "      <td>(высокая влажность воздуха)</td>\n",
       "      <td>(гроза)</td>\n",
       "      <td>0.225806</td>\n",
       "      <td>0.096774</td>\n",
       "      <td>0.064516</td>\n",
       "      <td>0.285714</td>\n",
       "      <td>2.952381</td>\n",
       "      <td>0.042664</td>\n",
       "      <td>1.264516</td>\n",
       "    </tr>\n",
       "  </tbody>\n",
       "</table>\n",
       "</div>"
      ],
      "text/plain": [
       "                   antecedents consequents  antecedent support  \\\n",
       "0                       (жара)     (гроза)            0.096774   \n",
       "1            (низкое давление)     (гроза)            0.193548   \n",
       "2  (высокая влажность воздуха)     (гроза)            0.225806   \n",
       "\n",
       "   consequent support   support  confidence      lift  leverage  conviction  \n",
       "0            0.096774  0.064516    0.666667  6.888889  0.055151    2.709677  \n",
       "1            0.096774  0.096774    0.500000  5.166667  0.078044    1.806452  \n",
       "2            0.096774  0.064516    0.285714  2.952381  0.042664    1.264516  "
      ]
     },
     "metadata": {},
     "output_type": "display_data"
    },
    {
     "data": {
      "image/png": "[encoded data removed]",
      "text/plain": [
       "<Figure size 1000x500 with 1 Axes>"
      ]
     },
     "metadata": {},
     "output_type": "display_data"
    },
    {
     "name": "stdout",
     "output_type": "stream",
     "text": [
      "Метель:\n"
     ]
    },
    {
     "data": {
      "text/html": [
       "<div>\n",
       "<style scoped>\n",
       "    .dataframe tbody tr th:only-of-type {\n",
       "        vertical-align: middle;\n",
       "    }\n",
       "\n",
       "    .dataframe tbody tr th {\n",
       "        vertical-align: top;\n",
       "    }\n",
       "\n",
       "    .dataframe thead th {\n",
       "        text-align: right;\n",
       "    }\n",
       "</style>\n",
       "<table border=\"1\" class=\"dataframe\">\n",
       "  <thead>\n",
       "    <tr style=\"text-align: right;\">\n",
       "      <th></th>\n",
       "      <th>antecedents</th>\n",
       "      <th>consequents</th>\n",
       "      <th>antecedent support</th>\n",
       "      <th>consequent support</th>\n",
       "      <th>support</th>\n",
       "      <th>confidence</th>\n",
       "      <th>lift</th>\n",
       "      <th>leverage</th>\n",
       "      <th>conviction</th>\n",
       "    </tr>\n",
       "  </thead>\n",
       "  <tbody>\n",
       "    <tr>\n",
       "      <th>0</th>\n",
       "      <td>(снег)</td>\n",
       "      <td>(метель)</td>\n",
       "      <td>0.225806</td>\n",
       "      <td>0.225806</td>\n",
       "      <td>0.129032</td>\n",
       "      <td>0.571429</td>\n",
       "      <td>2.530612</td>\n",
       "      <td>0.078044</td>\n",
       "      <td>1.806452</td>\n",
       "    </tr>\n",
       "    <tr>\n",
       "      <th>1</th>\n",
       "      <td>(мороз)</td>\n",
       "      <td>(метель)</td>\n",
       "      <td>0.322581</td>\n",
       "      <td>0.225806</td>\n",
       "      <td>0.161290</td>\n",
       "      <td>0.500000</td>\n",
       "      <td>2.214286</td>\n",
       "      <td>0.088450</td>\n",
       "      <td>1.548387</td>\n",
       "    </tr>\n",
       "  </tbody>\n",
       "</table>\n",
       "</div>"
      ],
      "text/plain": [
       "  antecedents consequents  antecedent support  consequent support   support  \\\n",
       "0      (снег)    (метель)            0.225806            0.225806  0.129032   \n",
       "1     (мороз)    (метель)            0.322581            0.225806  0.161290   \n",
       "\n",
       "   confidence      lift  leverage  conviction  \n",
       "0    0.571429  2.530612  0.078044    1.806452  \n",
       "1    0.500000  2.214286  0.088450    1.548387  "
      ]
     },
     "metadata": {},
     "output_type": "display_data"
    },
    {
     "data": {
      "image/png": "[encoded data removed]",
      "text/plain": [
       "<Figure size 1000x500 with 1 Axes>"
      ]
     },
     "metadata": {},
     "output_type": "display_data"
    }
   ],
   "source": [
    "# посмотрим какие продукты стимулируют продажи других продуктов\n",
    "rain_rules = rules[rules['consequents'].astype(str).str.contains('дождь')]\n",
    "rain_rules = rain_rules.sort_values(by=['lift'], ascending=[False]).reset_index(drop=True)\n",
    "\n",
    "storm_rules = rules[rules['consequents'].astype(str).str.contains('гроза')]\n",
    "storm_rules = storm_rules.sort_values(by=['lift'], ascending=[False]).reset_index(drop=True)\n",
    "\n",
    "blizzard_rules = rules[rules['consequents'].astype(str).str.contains('метель')]\n",
    "blizzard_rules = blizzard_rules.sort_values(by=['lift'], ascending=[False]).reset_index(drop=True)\n",
    "\n",
    "print('Дождь:')\n",
    "display(rain_rules.head())\n",
    "\n",
    "groups = [re.search(r'[^frozenset, (, {].*[^}, )]', str(item))[0] for item in rain_rules.head()['antecedents']]\n",
    "count = np.array(rain_rules.head()['lift'])\n",
    "plt.figure(figsize=(10, 5))\n",
    "plt.bar(groups, count)\n",
    "plt.xlabel('Product')\n",
    "plt.ylabel('Lift')\n",
    "plt.show()\n",
    "\n",
    "print('Гроза:')\n",
    "display(storm_rules.head())\n",
    "\n",
    "groups = [re.search(r'[^frozenset, (, {].*[^}, )]', str(item))[0] for item in storm_rules.head()['antecedents']]\n",
    "count = np.array(storm_rules.head()['lift'])\n",
    "plt.figure(figsize=(10, 5))\n",
    "plt.bar(groups, count)\n",
    "plt.xlabel('Product')\n",
    "plt.ylabel('Lift')\n",
    "plt.show()\n",
    "\n",
    "print('Метель:')\n",
    "display(blizzard_rules.head())\n",
    "\n",
    "groups = [re.search(r'[^frozenset, (, {].*[^}, )]', str(item))[0] for item in blizzard_rules.head()['antecedents']]\n",
    "count = np.array(blizzard_rules.head()['lift'])\n",
    "plt.figure(figsize=(10, 5))\n",
    "plt.bar(groups, count)\n",
    "plt.xlabel('Product')\n",
    "plt.ylabel('Lift')\n",
    "plt.show()\n"
   ]
  }
 ],
 "metadata": {
  "kernelspec": {
   "display_name": "Python 3.9.7 64-bit ('3.9.7')",
   "language": "python",
   "name": "python3"
  },
  "language_info": {
   "codemirror_mode": {
    "name": "ipython",
    "version": 3
   },
   "file_extension": ".py",
   "mimetype": "text/x-python",
   "name": "python",
   "nbconvert_exporter": "python",
   "pygments_lexer": "ipython3",
   "version": "3.9.7"
  },
  "orig_nbformat": 4,
  "vscode": {
   "interpreter": {
    "hash": "a9f022262829591c04be143e715319d8db2076fe7a7b443338bfce47b8ae3e6b"
   }
  }
 },
 "nbformat": 4,
 "nbformat_minor": 2
}
