{
 "cells": [
  {
   "cell_type": "code",
   "execution_count": 102,
   "metadata": {},
   "outputs": [],
   "source": [
    "import re\n",
    "import pandas as pd\n",
    "import numpy as np\n",
    "import plotly.express as px\n",
    "import networkx as nx\n",
    "import matplotlib.pyplot as plt\n",
    "from mlxtend.frequent_patterns import apriori\n",
    "from mlxtend.frequent_patterns import association_rules\n",
    "from mlxtend.preprocessing import TransactionEncoder"
   ]
  },
  {
   "cell_type": "code",
   "execution_count": 39,
   "metadata": {},
   "outputs": [
    {
     "data": {
      "text/html": [
       "<div>\n",
       "<style scoped>\n",
       "    .dataframe tbody tr th:only-of-type {\n",
       "        vertical-align: middle;\n",
       "    }\n",
       "\n",
       "    .dataframe tbody tr th {\n",
       "        vertical-align: top;\n",
       "    }\n",
       "\n",
       "    .dataframe thead th {\n",
       "        text-align: right;\n",
       "    }\n",
       "</style>\n",
       "<table border=\"1\" class=\"dataframe\">\n",
       "  <thead>\n",
       "    <tr style=\"text-align: right;\">\n",
       "      <th></th>\n",
       "      <th>Member_number</th>\n",
       "      <th>Date</th>\n",
       "      <th>itemDescription</th>\n",
       "    </tr>\n",
       "  </thead>\n",
       "  <tbody>\n",
       "    <tr>\n",
       "      <th>0</th>\n",
       "      <td>1808</td>\n",
       "      <td>21-07-2015</td>\n",
       "      <td>tropical fruit</td>\n",
       "    </tr>\n",
       "    <tr>\n",
       "      <th>1</th>\n",
       "      <td>2552</td>\n",
       "      <td>05-01-2015</td>\n",
       "      <td>whole milk</td>\n",
       "    </tr>\n",
       "    <tr>\n",
       "      <th>2</th>\n",
       "      <td>2300</td>\n",
       "      <td>19-09-2015</td>\n",
       "      <td>pip fruit</td>\n",
       "    </tr>\n",
       "    <tr>\n",
       "      <th>3</th>\n",
       "      <td>1187</td>\n",
       "      <td>12-12-2015</td>\n",
       "      <td>other vegetables</td>\n",
       "    </tr>\n",
       "    <tr>\n",
       "      <th>4</th>\n",
       "      <td>3037</td>\n",
       "      <td>01-02-2015</td>\n",
       "      <td>whole milk</td>\n",
       "    </tr>\n",
       "  </tbody>\n",
       "</table>\n",
       "</div>"
      ],
      "text/plain": [
       "   Member_number        Date   itemDescription\n",
       "0           1808  21-07-2015    tropical fruit\n",
       "1           2552  05-01-2015        whole milk\n",
       "2           2300  19-09-2015         pip fruit\n",
       "3           1187  12-12-2015  other vegetables\n",
       "4           3037  01-02-2015        whole milk"
      ]
     },
     "execution_count": 39,
     "metadata": {},
     "output_type": "execute_result"
    }
   ],
   "source": [
    "# загружаем исходные данные\n",
    "data = pd.read_csv('./data/Groceries_dataset.csv')\n",
    "data.head()"
   ]
  },
  {
   "cell_type": "code",
   "execution_count": 20,
   "metadata": {},
   "outputs": [
    {
     "data": {
      "text/plain": [
       "Member_number      0\n",
       "Date               0\n",
       "itemDescription    0\n",
       "dtype: int64"
      ]
     },
     "execution_count": 20,
     "metadata": {},
     "output_type": "execute_result"
    }
   ],
   "source": [
    "# проверяем данные на наличие пропусков\n",
    "is_nan = data.isna().sum()\n",
    "is_nan"
   ]
  },
  {
   "cell_type": "code",
   "execution_count": 23,
   "metadata": {},
   "outputs": [
    {
     "data": {
      "application/vnd.plotly.v1+json": {
       "config": {
        "plotlyServerURL": "https://plot.ly"
       },
       "data": [
        {
         "branchvalues": "total",
         "domain": {
          "x": [
           0,
           1
          ],
          "y": [
           0,
           1
          ]
         },
         "hovertemplate": "labels=%{label}<br>count=%{value}<br>parent=%{parent}<br>id=%{id}<extra></extra>",
         "ids": [
          "Instant food products",
          "UHT-milk",
          "abrasive cleaner",
          "artif. sweetener",
          "baby cosmetics",
          "bags",
          "baking powder",
          "bathroom cleaner",
          "beef",
          "berries",
          "beverages",
          "bottled beer",
          "bottled water",
          "brandy",
          "brown bread",
          "butter",
          "butter milk",
          "cake bar",
          "candles",
          "candy",
          "canned beer",
          "canned fish",
          "canned fruit",
          "canned vegetables",
          "cat food",
          "cereals",
          "chewing gum",
          "chicken",
          "chocolate",
          "chocolate marshmallow",
          "citrus fruit",
          "cleaner",
          "cling film/bags",
          "cocoa drinks",
          "coffee",
          "condensed milk",
          "cooking chocolate",
          "cookware",
          "cream",
          "cream cheese ",
          "curd",
          "curd cheese",
          "decalcifier",
          "dental care",
          "dessert",
          "detergent",
          "dish cleaner",
          "dishes",
          "dog food",
          "domestic eggs",
          "female sanitary products",
          "finished products",
          "fish",
          "flour",
          "flower (seeds)",
          "flower soil/fertilizer",
          "frankfurter",
          "frozen chicken",
          "frozen dessert",
          "frozen fish",
          "frozen fruits",
          "frozen meals",
          "frozen potato products",
          "frozen vegetables",
          "fruit/vegetable juice",
          "grapes",
          "hair spray",
          "ham",
          "hamburger meat",
          "hard cheese",
          "herbs",
          "honey",
          "house keeping products",
          "hygiene articles",
          "ice cream",
          "instant coffee",
          "jam",
          "ketchup",
          "kitchen towels",
          "kitchen utensil",
          "light bulbs",
          "liqueur",
          "liquor",
          "liquor (appetizer)",
          "liver loaf",
          "long life bakery product",
          "make up remover",
          "male cosmetics",
          "margarine",
          "mayonnaise",
          "meat",
          "meat spreads",
          "misc. beverages",
          "mustard",
          "napkins",
          "newspapers",
          "nut snack",
          "nuts/prunes",
          "oil",
          "onions",
          "organic products",
          "organic sausage",
          "other vegetables",
          "packaged fruit/vegetables",
          "pasta",
          "pastry",
          "pet care",
          "photo/film",
          "pickled vegetables",
          "pip fruit",
          "popcorn",
          "pork",
          "pot plants",
          "potato products",
          "preservation products",
          "processed cheese",
          "prosecco",
          "pudding powder",
          "ready soups",
          "red/blush wine",
          "rice",
          "roll products ",
          "rolls/buns",
          "root vegetables",
          "rubbing alcohol",
          "rum",
          "salad dressing",
          "salt",
          "salty snack",
          "sauces",
          "sausage",
          "seasonal products",
          "semi-finished bread",
          "shopping bags",
          "skin care",
          "sliced cheese",
          "snack products",
          "soap",
          "soda",
          "soft cheese",
          "softener",
          "soups",
          "sparkling wine",
          "specialty bar",
          "specialty cheese",
          "specialty chocolate",
          "specialty fat",
          "specialty vegetables",
          "spices",
          "spread cheese",
          "sugar",
          "sweet spreads",
          "syrup",
          "tea",
          "tidbits",
          "toilet cleaner",
          "tropical fruit",
          "turkey",
          "vinegar",
          "waffles",
          "whipped/sour cream",
          "whisky",
          "white bread",
          "white wine",
          "whole milk",
          "yogurt",
          "zwieback"
         ],
         "labels": [
          "Instant food products",
          "UHT-milk",
          "abrasive cleaner",
          "artif. sweetener",
          "baby cosmetics",
          "bags",
          "baking powder",
          "bathroom cleaner",
          "beef",
          "berries",
          "beverages",
          "bottled beer",
          "bottled water",
          "brandy",
          "brown bread",
          "butter",
          "butter milk",
          "cake bar",
          "candles",
          "candy",
          "canned beer",
          "canned fish",
          "canned fruit",
          "canned vegetables",
          "cat food",
          "cereals",
          "chewing gum",
          "chicken",
          "chocolate",
          "chocolate marshmallow",
          "citrus fruit",
          "cleaner",
          "cling film/bags",
          "cocoa drinks",
          "coffee",
          "condensed milk",
          "cooking chocolate",
          "cookware",
          "cream",
          "cream cheese ",
          "curd",
          "curd cheese",
          "decalcifier",
          "dental care",
          "dessert",
          "detergent",
          "dish cleaner",
          "dishes",
          "dog food",
          "domestic eggs",
          "female sanitary products",
          "finished products",
          "fish",
          "flour",
          "flower (seeds)",
          "flower soil/fertilizer",
          "frankfurter",
          "frozen chicken",
          "frozen dessert",
          "frozen fish",
          "frozen fruits",
          "frozen meals",
          "frozen potato products",
          "frozen vegetables",
          "fruit/vegetable juice",
          "grapes",
          "hair spray",
          "ham",
          "hamburger meat",
          "hard cheese",
          "herbs",
          "honey",
          "house keeping products",
          "hygiene articles",
          "ice cream",
          "instant coffee",
          "jam",
          "ketchup",
          "kitchen towels",
          "kitchen utensil",
          "light bulbs",
          "liqueur",
          "liquor",
          "liquor (appetizer)",
          "liver loaf",
          "long life bakery product",
          "make up remover",
          "male cosmetics",
          "margarine",
          "mayonnaise",
          "meat",
          "meat spreads",
          "misc. beverages",
          "mustard",
          "napkins",
          "newspapers",
          "nut snack",
          "nuts/prunes",
          "oil",
          "onions",
          "organic products",
          "organic sausage",
          "other vegetables",
          "packaged fruit/vegetables",
          "pasta",
          "pastry",
          "pet care",
          "photo/film",
          "pickled vegetables",
          "pip fruit",
          "popcorn",
          "pork",
          "pot plants",
          "potato products",
          "preservation products",
          "processed cheese",
          "prosecco",
          "pudding powder",
          "ready soups",
          "red/blush wine",
          "rice",
          "roll products ",
          "rolls/buns",
          "root vegetables",
          "rubbing alcohol",
          "rum",
          "salad dressing",
          "salt",
          "salty snack",
          "sauces",
          "sausage",
          "seasonal products",
          "semi-finished bread",
          "shopping bags",
          "skin care",
          "sliced cheese",
          "snack products",
          "soap",
          "soda",
          "soft cheese",
          "softener",
          "soups",
          "sparkling wine",
          "specialty bar",
          "specialty cheese",
          "specialty chocolate",
          "specialty fat",
          "specialty vegetables",
          "spices",
          "spread cheese",
          "sugar",
          "sweet spreads",
          "syrup",
          "tea",
          "tidbits",
          "toilet cleaner",
          "tropical fruit",
          "turkey",
          "vinegar",
          "waffles",
          "whipped/sour cream",
          "whisky",
          "white bread",
          "white wine",
          "whole milk",
          "yogurt",
          "zwieback"
         ],
         "name": "",
         "parents": [
          "",
          "",
          "",
          "",
          "",
          "",
          "",
          "",
          "",
          "",
          "",
          "",
          "",
          "",
          "",
          "",
          "",
          "",
          "",
          "",
          "",
          "",
          "",
          "",
          "",
          "",
          "",
          "",
          "",
          "",
          "",
          "",
          "",
          "",
          "",
          "",
          "",
          "",
          "",
          "",
          "",
          "",
          "",
          "",
          "",
          "",
          "",
          "",
          "",
          "",
          "",
          "",
          "",
          "",
          "",
          "",
          "",
          "",
          "",
          "",
          "",
          "",
          "",
          "",
          "",
          "",
          "",
          "",
          "",
          "",
          "",
          "",
          "",
          "",
          "",
          "",
          "",
          "",
          "",
          "",
          "",
          "",
          "",
          "",
          "",
          "",
          "",
          "",
          "",
          "",
          "",
          "",
          "",
          "",
          "",
          "",
          "",
          "",
          "",
          "",
          "",
          "",
          "",
          "",
          "",
          "",
          "",
          "",
          "",
          "",
          "",
          "",
          "",
          "",
          "",
          "",
          "",
          "",
          "",
          "",
          "",
          "",
          "",
          "",
          "",
          "",
          "",
          "",
          "",
          "",
          "",
          "",
          "",
          "",
          "",
          "",
          "",
          "",
          "",
          "",
          "",
          "",
          "",
          "",
          "",
          "",
          "",
          "",
          "",
          "",
          "",
          "",
          "",
          "",
          "",
          "",
          "",
          "",
          "",
          "",
          "",
          "",
          "",
          "",
          "",
          "",
          ""
         ],
         "textinfo": "label+value",
         "type": "treemap",
         "values": [
          60,
          323,
          22,
          29,
          3,
          4,
          122,
          17,
          516,
          327,
          251,
          687,
          933,
          38,
          571,
          534,
          263,
          93,
          66,
          219,
          717,
          116,
          21,
          82,
          177,
          42,
          181,
          422,
          357,
          60,
          812,
          31,
          74,
          16,
          476,
          98,
          15,
          17,
          12,
          358,
          514,
          46,
          9,
          33,
          356,
          130,
          73,
          135,
          67,
          566,
          40,
          64,
          29,
          146,
          70,
          16,
          580,
          5,
          92,
          102,
          11,
          252,
          72,
          425,
          518,
          220,
          9,
          256,
          327,
          220,
          159,
          13,
          45,
          208,
          227,
          61,
          34,
          32,
          30,
          1,
          29,
          9,
          103,
          67,
          50,
          269,
          5,
          37,
          491,
          75,
          254,
          35,
          238,
          92,
          335,
          596,
          22,
          33,
          225,
          305,
          10,
          22,
          1898,
          128,
          121,
          785,
          85,
          79,
          134,
          744,
          48,
          566,
          118,
          23,
          1,
          152,
          19,
          17,
          15,
          157,
          49,
          82,
          1716,
          1071,
          5,
          32,
          6,
          89,
          283,
          44,
          924,
          106,
          142,
          731,
          20,
          212,
          27,
          20,
          1514,
          152,
          41,
          48,
          46,
          210,
          72,
          240,
          29,
          11,
          40,
          100,
          265,
          69,
          21,
          27,
          22,
          5,
          1032,
          80,
          51,
          280,
          662,
          8,
          362,
          176,
          2502,
          1334,
          60
         ]
        }
       ],
       "layout": {
        "legend": {
         "tracegroupgap": 0
        },
        "margin": {
         "t": 60
        },
        "template": {
         "data": {
          "bar": [
           {
            "error_x": {
             "color": "#2a3f5f"
            },
            "error_y": {
             "color": "#2a3f5f"
            },
            "marker": {
             "line": {
              "color": "#E5ECF6",
              "width": 0.5
             },
             "pattern": {
              "fillmode": "overlay",
              "size": 10,
              "solidity": 0.2
             }
            },
            "type": "bar"
           }
          ],
          "barpolar": [
           {
            "marker": {
             "line": {
              "color": "#E5ECF6",
              "width": 0.5
             },
             "pattern": {
              "fillmode": "overlay",
              "size": 10,
              "solidity": 0.2
             }
            },
            "type": "barpolar"
           }
          ],
          "carpet": [
           {
            "aaxis": {
             "endlinecolor": "#2a3f5f",
             "gridcolor": "white",
             "linecolor": "white",
             "minorgridcolor": "white",
             "startlinecolor": "#2a3f5f"
            },
            "baxis": {
             "endlinecolor": "#2a3f5f",
             "gridcolor": "white",
             "linecolor": "white",
             "minorgridcolor": "white",
             "startlinecolor": "#2a3f5f"
            },
            "type": "carpet"
           }
          ],
          "choropleth": [
           {
            "colorbar": {
             "outlinewidth": 0,
             "ticks": ""
            },
            "type": "choropleth"
           }
          ],
          "contour": [
           {
            "colorbar": {
             "outlinewidth": 0,
             "ticks": ""
            },
            "colorscale": [
             [
              0,
              "#0d0887"
             ],
             [
              0.1111111111111111,
              "#46039f"
             ],
             [
              0.2222222222222222,
              "#7201a8"
             ],
             [
              0.3333333333333333,
              "#9c179e"
             ],
             [
              0.4444444444444444,
              "#bd3786"
             ],
             [
              0.5555555555555556,
              "#d8576b"
             ],
             [
              0.6666666666666666,
              "#ed7953"
             ],
             [
              0.7777777777777778,
              "#fb9f3a"
             ],
             [
              0.8888888888888888,
              "#fdca26"
             ],
             [
              1,
              "#f0f921"
             ]
            ],
            "type": "contour"
           }
          ],
          "contourcarpet": [
           {
            "colorbar": {
             "outlinewidth": 0,
             "ticks": ""
            },
            "type": "contourcarpet"
           }
          ],
          "heatmap": [
           {
            "colorbar": {
             "outlinewidth": 0,
             "ticks": ""
            },
            "colorscale": [
             [
              0,
              "#0d0887"
             ],
             [
              0.1111111111111111,
              "#46039f"
             ],
             [
              0.2222222222222222,
              "#7201a8"
             ],
             [
              0.3333333333333333,
              "#9c179e"
             ],
             [
              0.4444444444444444,
              "#bd3786"
             ],
             [
              0.5555555555555556,
              "#d8576b"
             ],
             [
              0.6666666666666666,
              "#ed7953"
             ],
             [
              0.7777777777777778,
              "#fb9f3a"
             ],
             [
              0.8888888888888888,
              "#fdca26"
             ],
             [
              1,
              "#f0f921"
             ]
            ],
            "type": "heatmap"
           }
          ],
          "heatmapgl": [
           {
            "colorbar": {
             "outlinewidth": 0,
             "ticks": ""
            },
            "colorscale": [
             [
              0,
              "#0d0887"
             ],
             [
              0.1111111111111111,
              "#46039f"
             ],
             [
              0.2222222222222222,
              "#7201a8"
             ],
             [
              0.3333333333333333,
              "#9c179e"
             ],
             [
              0.4444444444444444,
              "#bd3786"
             ],
             [
              0.5555555555555556,
              "#d8576b"
             ],
             [
              0.6666666666666666,
              "#ed7953"
             ],
             [
              0.7777777777777778,
              "#fb9f3a"
             ],
             [
              0.8888888888888888,
              "#fdca26"
             ],
             [
              1,
              "#f0f921"
             ]
            ],
            "type": "heatmapgl"
           }
          ],
          "histogram": [
           {
            "marker": {
             "pattern": {
              "fillmode": "overlay",
              "size": 10,
              "solidity": 0.2
             }
            },
            "type": "histogram"
           }
          ],
          "histogram2d": [
           {
            "colorbar": {
             "outlinewidth": 0,
             "ticks": ""
            },
            "colorscale": [
             [
              0,
              "#0d0887"
             ],
             [
              0.1111111111111111,
              "#46039f"
             ],
             [
              0.2222222222222222,
              "#7201a8"
             ],
             [
              0.3333333333333333,
              "#9c179e"
             ],
             [
              0.4444444444444444,
              "#bd3786"
             ],
             [
              0.5555555555555556,
              "#d8576b"
             ],
             [
              0.6666666666666666,
              "#ed7953"
             ],
             [
              0.7777777777777778,
              "#fb9f3a"
             ],
             [
              0.8888888888888888,
              "#fdca26"
             ],
             [
              1,
              "#f0f921"
             ]
            ],
            "type": "histogram2d"
           }
          ],
          "histogram2dcontour": [
           {
            "colorbar": {
             "outlinewidth": 0,
             "ticks": ""
            },
            "colorscale": [
             [
              0,
              "#0d0887"
             ],
             [
              0.1111111111111111,
              "#46039f"
             ],
             [
              0.2222222222222222,
              "#7201a8"
             ],
             [
              0.3333333333333333,
              "#9c179e"
             ],
             [
              0.4444444444444444,
              "#bd3786"
             ],
             [
              0.5555555555555556,
              "#d8576b"
             ],
             [
              0.6666666666666666,
              "#ed7953"
             ],
             [
              0.7777777777777778,
              "#fb9f3a"
             ],
             [
              0.8888888888888888,
              "#fdca26"
             ],
             [
              1,
              "#f0f921"
             ]
            ],
            "type": "histogram2dcontour"
           }
          ],
          "mesh3d": [
           {
            "colorbar": {
             "outlinewidth": 0,
             "ticks": ""
            },
            "type": "mesh3d"
           }
          ],
          "parcoords": [
           {
            "line": {
             "colorbar": {
              "outlinewidth": 0,
              "ticks": ""
             }
            },
            "type": "parcoords"
           }
          ],
          "pie": [
           {
            "automargin": true,
            "type": "pie"
           }
          ],
          "scatter": [
           {
            "fillpattern": {
             "fillmode": "overlay",
             "size": 10,
             "solidity": 0.2
            },
            "type": "scatter"
           }
          ],
          "scatter3d": [
           {
            "line": {
             "colorbar": {
              "outlinewidth": 0,
              "ticks": ""
             }
            },
            "marker": {
             "colorbar": {
              "outlinewidth": 0,
              "ticks": ""
             }
            },
            "type": "scatter3d"
           }
          ],
          "scattercarpet": [
           {
            "marker": {
             "colorbar": {
              "outlinewidth": 0,
              "ticks": ""
             }
            },
            "type": "scattercarpet"
           }
          ],
          "scattergeo": [
           {
            "marker": {
             "colorbar": {
              "outlinewidth": 0,
              "ticks": ""
             }
            },
            "type": "scattergeo"
           }
          ],
          "scattergl": [
           {
            "marker": {
             "colorbar": {
              "outlinewidth": 0,
              "ticks": ""
             }
            },
            "type": "scattergl"
           }
          ],
          "scattermapbox": [
           {
            "marker": {
             "colorbar": {
              "outlinewidth": 0,
              "ticks": ""
             }
            },
            "type": "scattermapbox"
           }
          ],
          "scatterpolar": [
           {
            "marker": {
             "colorbar": {
              "outlinewidth": 0,
              "ticks": ""
             }
            },
            "type": "scatterpolar"
           }
          ],
          "scatterpolargl": [
           {
            "marker": {
             "colorbar": {
              "outlinewidth": 0,
              "ticks": ""
             }
            },
            "type": "scatterpolargl"
           }
          ],
          "scatterternary": [
           {
            "marker": {
             "colorbar": {
              "outlinewidth": 0,
              "ticks": ""
             }
            },
            "type": "scatterternary"
           }
          ],
          "surface": [
           {
            "colorbar": {
             "outlinewidth": 0,
             "ticks": ""
            },
            "colorscale": [
             [
              0,
              "#0d0887"
             ],
             [
              0.1111111111111111,
              "#46039f"
             ],
             [
              0.2222222222222222,
              "#7201a8"
             ],
             [
              0.3333333333333333,
              "#9c179e"
             ],
             [
              0.4444444444444444,
              "#bd3786"
             ],
             [
              0.5555555555555556,
              "#d8576b"
             ],
             [
              0.6666666666666666,
              "#ed7953"
             ],
             [
              0.7777777777777778,
              "#fb9f3a"
             ],
             [
              0.8888888888888888,
              "#fdca26"
             ],
             [
              1,
              "#f0f921"
             ]
            ],
            "type": "surface"
           }
          ],
          "table": [
           {
            "cells": {
             "fill": {
              "color": "#EBF0F8"
             },
             "line": {
              "color": "white"
             }
            },
            "header": {
             "fill": {
              "color": "#C8D4E3"
             },
             "line": {
              "color": "white"
             }
            },
            "type": "table"
           }
          ]
         },
         "layout": {
          "annotationdefaults": {
           "arrowcolor": "#2a3f5f",
           "arrowhead": 0,
           "arrowwidth": 1
          },
          "autotypenumbers": "strict",
          "coloraxis": {
           "colorbar": {
            "outlinewidth": 0,
            "ticks": ""
           }
          },
          "colorscale": {
           "diverging": [
            [
             0,
             "#8e0152"
            ],
            [
             0.1,
             "#c51b7d"
            ],
            [
             0.2,
             "#de77ae"
            ],
            [
             0.3,
             "#f1b6da"
            ],
            [
             0.4,
             "#fde0ef"
            ],
            [
             0.5,
             "#f7f7f7"
            ],
            [
             0.6,
             "#e6f5d0"
            ],
            [
             0.7,
             "#b8e186"
            ],
            [
             0.8,
             "#7fbc41"
            ],
            [
             0.9,
             "#4d9221"
            ],
            [
             1,
             "#276419"
            ]
           ],
           "sequential": [
            [
             0,
             "#0d0887"
            ],
            [
             0.1111111111111111,
             "#46039f"
            ],
            [
             0.2222222222222222,
             "#7201a8"
            ],
            [
             0.3333333333333333,
             "#9c179e"
            ],
            [
             0.4444444444444444,
             "#bd3786"
            ],
            [
             0.5555555555555556,
             "#d8576b"
            ],
            [
             0.6666666666666666,
             "#ed7953"
            ],
            [
             0.7777777777777778,
             "#fb9f3a"
            ],
            [
             0.8888888888888888,
             "#fdca26"
            ],
            [
             1,
             "#f0f921"
            ]
           ],
           "sequentialminus": [
            [
             0,
             "#0d0887"
            ],
            [
             0.1111111111111111,
             "#46039f"
            ],
            [
             0.2222222222222222,
             "#7201a8"
            ],
            [
             0.3333333333333333,
             "#9c179e"
            ],
            [
             0.4444444444444444,
             "#bd3786"
            ],
            [
             0.5555555555555556,
             "#d8576b"
            ],
            [
             0.6666666666666666,
             "#ed7953"
            ],
            [
             0.7777777777777778,
             "#fb9f3a"
            ],
            [
             0.8888888888888888,
             "#fdca26"
            ],
            [
             1,
             "#f0f921"
            ]
           ]
          },
          "colorway": [
           "#636efa",
           "#EF553B",
           "#00cc96",
           "#ab63fa",
           "#FFA15A",
           "#19d3f3",
           "#FF6692",
           "#B6E880",
           "#FF97FF",
           "#FECB52"
          ],
          "font": {
           "color": "#2a3f5f"
          },
          "geo": {
           "bgcolor": "white",
           "lakecolor": "white",
           "landcolor": "#E5ECF6",
           "showlakes": true,
           "showland": true,
           "subunitcolor": "white"
          },
          "hoverlabel": {
           "align": "left"
          },
          "hovermode": "closest",
          "mapbox": {
           "style": "light"
          },
          "paper_bgcolor": "white",
          "plot_bgcolor": "#E5ECF6",
          "polar": {
           "angularaxis": {
            "gridcolor": "white",
            "linecolor": "white",
            "ticks": ""
           },
           "bgcolor": "#E5ECF6",
           "radialaxis": {
            "gridcolor": "white",
            "linecolor": "white",
            "ticks": ""
           }
          },
          "scene": {
           "xaxis": {
            "backgroundcolor": "#E5ECF6",
            "gridcolor": "white",
            "gridwidth": 2,
            "linecolor": "white",
            "showbackground": true,
            "ticks": "",
            "zerolinecolor": "white"
           },
           "yaxis": {
            "backgroundcolor": "#E5ECF6",
            "gridcolor": "white",
            "gridwidth": 2,
            "linecolor": "white",
            "showbackground": true,
            "ticks": "",
            "zerolinecolor": "white"
           },
           "zaxis": {
            "backgroundcolor": "#E5ECF6",
            "gridcolor": "white",
            "gridwidth": 2,
            "linecolor": "white",
            "showbackground": true,
            "ticks": "",
            "zerolinecolor": "white"
           }
          },
          "shapedefaults": {
           "line": {
            "color": "#2a3f5f"
           }
          },
          "ternary": {
           "aaxis": {
            "gridcolor": "white",
            "linecolor": "white",
            "ticks": ""
           },
           "baxis": {
            "gridcolor": "white",
            "linecolor": "white",
            "ticks": ""
           },
           "bgcolor": "#E5ECF6",
           "caxis": {
            "gridcolor": "white",
            "linecolor": "white",
            "ticks": ""
           }
          },
          "title": {
           "x": 0.05
          },
          "xaxis": {
           "automargin": true,
           "gridcolor": "white",
           "linecolor": "white",
           "ticks": "",
           "title": {
            "standoff": 15
           },
           "zerolinecolor": "white",
           "zerolinewidth": 2
          },
          "yaxis": {
           "automargin": true,
           "gridcolor": "white",
           "linecolor": "white",
           "ticks": "",
           "title": {
            "standoff": 15
           },
           "zerolinecolor": "white",
           "zerolinewidth": 2
          }
         }
        },
        "title": {
         "font": {
          "size": 18
         },
         "text": "Frequency of the Items Sold",
         "x": 0.5
        }
       }
      }
     },
     "metadata": {},
     "output_type": "display_data"
    }
   ],
   "source": [
    "# посмотрим на группы товаров\n",
    "Frequency_of_items = data.groupby(pd.Grouper(key='itemDescription')).size().reset_index(name='count')\n",
    "fig = px.treemap(Frequency_of_items, path=['itemDescription'], values='count')\n",
    "fig.update_layout(title_text='Количество проданных товаров',\n",
    "                  title_x=0.5, title_font=dict(size=18))\n",
    "fig.update_traces(textinfo=\"label+value\")\n",
    "fig.show()"
   ]
  },
  {
   "cell_type": "code",
   "execution_count": 31,
   "metadata": {},
   "outputs": [
    {
     "data": {
      "text/plain": [
       "0    [sausage, whole milk, semi-finished bread, yog...\n",
       "1                    [whole milk, pastry, salty snack]\n",
       "2                       [canned beer, misc. beverages]\n",
       "3                          [sausage, hygiene articles]\n",
       "4                           [soda, pickled vegetables]\n",
       "Name: itemDescription, dtype: object"
      ]
     },
     "execution_count": 31,
     "metadata": {},
     "output_type": "execute_result"
    }
   ],
   "source": [
    "# группируем покупки по корзинам товаров\n",
    "data.itemDescription = data.itemDescription.transform(lambda x: [x])\n",
    "data = data.groupby(['Member_number','Date']).sum()['itemDescription'].reset_index(drop=True)\n",
    "data.head()"
   ]
  },
  {
   "cell_type": "code",
   "execution_count": 34,
   "metadata": {},
   "outputs": [
    {
     "data": {
      "text/html": [
       "<div>\n",
       "<style scoped>\n",
       "    .dataframe tbody tr th:only-of-type {\n",
       "        vertical-align: middle;\n",
       "    }\n",
       "\n",
       "    .dataframe tbody tr th {\n",
       "        vertical-align: top;\n",
       "    }\n",
       "\n",
       "    .dataframe thead th {\n",
       "        text-align: right;\n",
       "    }\n",
       "</style>\n",
       "<table border=\"1\" class=\"dataframe\">\n",
       "  <thead>\n",
       "    <tr style=\"text-align: right;\">\n",
       "      <th></th>\n",
       "      <th>Instant food products</th>\n",
       "      <th>UHT-milk</th>\n",
       "      <th>abrasive cleaner</th>\n",
       "      <th>artif. sweetener</th>\n",
       "      <th>baby cosmetics</th>\n",
       "      <th>bags</th>\n",
       "      <th>baking powder</th>\n",
       "      <th>bathroom cleaner</th>\n",
       "      <th>beef</th>\n",
       "      <th>berries</th>\n",
       "      <th>...</th>\n",
       "      <th>turkey</th>\n",
       "      <th>vinegar</th>\n",
       "      <th>waffles</th>\n",
       "      <th>whipped/sour cream</th>\n",
       "      <th>whisky</th>\n",
       "      <th>white bread</th>\n",
       "      <th>white wine</th>\n",
       "      <th>whole milk</th>\n",
       "      <th>yogurt</th>\n",
       "      <th>zwieback</th>\n",
       "    </tr>\n",
       "  </thead>\n",
       "  <tbody>\n",
       "    <tr>\n",
       "      <th>0</th>\n",
       "      <td>False</td>\n",
       "      <td>False</td>\n",
       "      <td>False</td>\n",
       "      <td>False</td>\n",
       "      <td>False</td>\n",
       "      <td>False</td>\n",
       "      <td>False</td>\n",
       "      <td>False</td>\n",
       "      <td>False</td>\n",
       "      <td>False</td>\n",
       "      <td>...</td>\n",
       "      <td>False</td>\n",
       "      <td>False</td>\n",
       "      <td>False</td>\n",
       "      <td>False</td>\n",
       "      <td>False</td>\n",
       "      <td>False</td>\n",
       "      <td>False</td>\n",
       "      <td>True</td>\n",
       "      <td>True</td>\n",
       "      <td>False</td>\n",
       "    </tr>\n",
       "    <tr>\n",
       "      <th>1</th>\n",
       "      <td>False</td>\n",
       "      <td>False</td>\n",
       "      <td>False</td>\n",
       "      <td>False</td>\n",
       "      <td>False</td>\n",
       "      <td>False</td>\n",
       "      <td>False</td>\n",
       "      <td>False</td>\n",
       "      <td>False</td>\n",
       "      <td>False</td>\n",
       "      <td>...</td>\n",
       "      <td>False</td>\n",
       "      <td>False</td>\n",
       "      <td>False</td>\n",
       "      <td>False</td>\n",
       "      <td>False</td>\n",
       "      <td>False</td>\n",
       "      <td>False</td>\n",
       "      <td>True</td>\n",
       "      <td>False</td>\n",
       "      <td>False</td>\n",
       "    </tr>\n",
       "    <tr>\n",
       "      <th>2</th>\n",
       "      <td>False</td>\n",
       "      <td>False</td>\n",
       "      <td>False</td>\n",
       "      <td>False</td>\n",
       "      <td>False</td>\n",
       "      <td>False</td>\n",
       "      <td>False</td>\n",
       "      <td>False</td>\n",
       "      <td>False</td>\n",
       "      <td>False</td>\n",
       "      <td>...</td>\n",
       "      <td>False</td>\n",
       "      <td>False</td>\n",
       "      <td>False</td>\n",
       "      <td>False</td>\n",
       "      <td>False</td>\n",
       "      <td>False</td>\n",
       "      <td>False</td>\n",
       "      <td>False</td>\n",
       "      <td>False</td>\n",
       "      <td>False</td>\n",
       "    </tr>\n",
       "    <tr>\n",
       "      <th>3</th>\n",
       "      <td>False</td>\n",
       "      <td>False</td>\n",
       "      <td>False</td>\n",
       "      <td>False</td>\n",
       "      <td>False</td>\n",
       "      <td>False</td>\n",
       "      <td>False</td>\n",
       "      <td>False</td>\n",
       "      <td>False</td>\n",
       "      <td>False</td>\n",
       "      <td>...</td>\n",
       "      <td>False</td>\n",
       "      <td>False</td>\n",
       "      <td>False</td>\n",
       "      <td>False</td>\n",
       "      <td>False</td>\n",
       "      <td>False</td>\n",
       "      <td>False</td>\n",
       "      <td>False</td>\n",
       "      <td>False</td>\n",
       "      <td>False</td>\n",
       "    </tr>\n",
       "    <tr>\n",
       "      <th>4</th>\n",
       "      <td>False</td>\n",
       "      <td>False</td>\n",
       "      <td>False</td>\n",
       "      <td>False</td>\n",
       "      <td>False</td>\n",
       "      <td>False</td>\n",
       "      <td>False</td>\n",
       "      <td>False</td>\n",
       "      <td>False</td>\n",
       "      <td>False</td>\n",
       "      <td>...</td>\n",
       "      <td>False</td>\n",
       "      <td>False</td>\n",
       "      <td>False</td>\n",
       "      <td>False</td>\n",
       "      <td>False</td>\n",
       "      <td>False</td>\n",
       "      <td>False</td>\n",
       "      <td>False</td>\n",
       "      <td>False</td>\n",
       "      <td>False</td>\n",
       "    </tr>\n",
       "  </tbody>\n",
       "</table>\n",
       "<p>5 rows × 167 columns</p>\n",
       "</div>"
      ],
      "text/plain": [
       "   Instant food products  UHT-milk  abrasive cleaner  artif. sweetener  \\\n",
       "0                  False     False             False             False   \n",
       "1                  False     False             False             False   \n",
       "2                  False     False             False             False   \n",
       "3                  False     False             False             False   \n",
       "4                  False     False             False             False   \n",
       "\n",
       "   baby cosmetics   bags  baking powder  bathroom cleaner   beef  berries  \\\n",
       "0           False  False          False             False  False    False   \n",
       "1           False  False          False             False  False    False   \n",
       "2           False  False          False             False  False    False   \n",
       "3           False  False          False             False  False    False   \n",
       "4           False  False          False             False  False    False   \n",
       "\n",
       "   ...  turkey  vinegar  waffles  whipped/sour cream  whisky  white bread  \\\n",
       "0  ...   False    False    False               False   False        False   \n",
       "1  ...   False    False    False               False   False        False   \n",
       "2  ...   False    False    False               False   False        False   \n",
       "3  ...   False    False    False               False   False        False   \n",
       "4  ...   False    False    False               False   False        False   \n",
       "\n",
       "   white wine  whole milk  yogurt  zwieback  \n",
       "0       False        True    True     False  \n",
       "1       False        True   False     False  \n",
       "2       False       False   False     False  \n",
       "3       False       False   False     False  \n",
       "4       False       False   False     False  \n",
       "\n",
       "[5 rows x 167 columns]"
      ]
     },
     "execution_count": 34,
     "metadata": {},
     "output_type": "execute_result"
    }
   ],
   "source": [
    "# приводим данные к формату, который принимает функция apriori\n",
    "# itemDescription в данном случае это наши категориальные признаки\n",
    "# каждая строка это транзакция\n",
    "encoder = TransactionEncoder()\n",
    "transactions = pd.DataFrame(encoder.fit(data).transform(data), columns=encoder.columns_)\n",
    "transactions.head()"
   ]
  },
  {
   "cell_type": "code",
   "execution_count": 55,
   "metadata": {},
   "outputs": [
    {
     "name": "stdout",
     "output_type": "stream",
     "text": [
      "Frequent itemsets:\n"
     ]
    },
    {
     "data": {
      "text/html": [
       "<div>\n",
       "<style scoped>\n",
       "    .dataframe tbody tr th:only-of-type {\n",
       "        vertical-align: middle;\n",
       "    }\n",
       "\n",
       "    .dataframe tbody tr th {\n",
       "        vertical-align: top;\n",
       "    }\n",
       "\n",
       "    .dataframe thead th {\n",
       "        text-align: right;\n",
       "    }\n",
       "</style>\n",
       "<table border=\"1\" class=\"dataframe\">\n",
       "  <thead>\n",
       "    <tr style=\"text-align: right;\">\n",
       "      <th></th>\n",
       "      <th>support</th>\n",
       "      <th>itemsets</th>\n",
       "    </tr>\n",
       "  </thead>\n",
       "  <tbody>\n",
       "    <tr>\n",
       "      <th>1522</th>\n",
       "      <td>0.0002</td>\n",
       "      <td>(dental care, fruit/vegetable juice)</td>\n",
       "    </tr>\n",
       "    <tr>\n",
       "      <th>1725</th>\n",
       "      <td>0.0002</td>\n",
       "      <td>(finished products, fruit/vegetable juice)</td>\n",
       "    </tr>\n",
       "    <tr>\n",
       "      <th>537</th>\n",
       "      <td>0.0002</td>\n",
       "      <td>(semi-finished bread, bottled beer)</td>\n",
       "    </tr>\n",
       "    <tr>\n",
       "      <th>544</th>\n",
       "      <td>0.0002</td>\n",
       "      <td>(specialty cheese, bottled beer)</td>\n",
       "    </tr>\n",
       "    <tr>\n",
       "      <th>545</th>\n",
       "      <td>0.0002</td>\n",
       "      <td>(specialty chocolate, bottled beer)</td>\n",
       "    </tr>\n",
       "    <tr>\n",
       "      <th>1711</th>\n",
       "      <td>0.0002</td>\n",
       "      <td>(domestic eggs, turkey)</td>\n",
       "    </tr>\n",
       "    <tr>\n",
       "      <th>1708</th>\n",
       "      <td>0.0002</td>\n",
       "      <td>(spread cheese, domestic eggs)</td>\n",
       "    </tr>\n",
       "    <tr>\n",
       "      <th>1707</th>\n",
       "      <td>0.0002</td>\n",
       "      <td>(specialty fat, domestic eggs)</td>\n",
       "    </tr>\n",
       "    <tr>\n",
       "      <th>1705</th>\n",
       "      <td>0.0002</td>\n",
       "      <td>(specialty cheese, domestic eggs)</td>\n",
       "    </tr>\n",
       "    <tr>\n",
       "      <th>1726</th>\n",
       "      <td>0.0002</td>\n",
       "      <td>(finished products, newspapers)</td>\n",
       "    </tr>\n",
       "  </tbody>\n",
       "</table>\n",
       "</div>"
      ],
      "text/plain": [
       "      support                                    itemsets\n",
       "1522   0.0002        (dental care, fruit/vegetable juice)\n",
       "1725   0.0002  (finished products, fruit/vegetable juice)\n",
       "537    0.0002         (semi-finished bread, bottled beer)\n",
       "544    0.0002            (specialty cheese, bottled beer)\n",
       "545    0.0002         (specialty chocolate, bottled beer)\n",
       "1711   0.0002                     (domestic eggs, turkey)\n",
       "1708   0.0002              (spread cheese, domestic eggs)\n",
       "1707   0.0002              (specialty fat, domestic eggs)\n",
       "1705   0.0002           (specialty cheese, domestic eggs)\n",
       "1726   0.0002             (finished products, newspapers)"
      ]
     },
     "metadata": {},
     "output_type": "display_data"
    },
    {
     "name": "stdout",
     "output_type": "stream",
     "text": [
      "Rules:\n",
      "antecedents - посылка\n",
      "consequents - следствие\n"
     ]
    },
    {
     "data": {
      "text/html": [
       "<div>\n",
       "<style scoped>\n",
       "    .dataframe tbody tr th:only-of-type {\n",
       "        vertical-align: middle;\n",
       "    }\n",
       "\n",
       "    .dataframe tbody tr th {\n",
       "        vertical-align: top;\n",
       "    }\n",
       "\n",
       "    .dataframe thead th {\n",
       "        text-align: right;\n",
       "    }\n",
       "</style>\n",
       "<table border=\"1\" class=\"dataframe\">\n",
       "  <thead>\n",
       "    <tr style=\"text-align: right;\">\n",
       "      <th></th>\n",
       "      <th>antecedents</th>\n",
       "      <th>consequents</th>\n",
       "      <th>antecedent support</th>\n",
       "      <th>consequent support</th>\n",
       "      <th>support</th>\n",
       "      <th>confidence</th>\n",
       "      <th>lift</th>\n",
       "      <th>leverage</th>\n",
       "      <th>conviction</th>\n",
       "    </tr>\n",
       "  </thead>\n",
       "  <tbody>\n",
       "    <tr>\n",
       "      <th>567</th>\n",
       "      <td>(soups)</td>\n",
       "      <td>(seasonal products)</td>\n",
       "      <td>0.003208</td>\n",
       "      <td>0.007084</td>\n",
       "      <td>0.000334</td>\n",
       "      <td>0.104167</td>\n",
       "      <td>14.704206</td>\n",
       "      <td>0.000311</td>\n",
       "      <td>1.108371</td>\n",
       "    </tr>\n",
       "    <tr>\n",
       "      <th>566</th>\n",
       "      <td>(seasonal products)</td>\n",
       "      <td>(soups)</td>\n",
       "      <td>0.007084</td>\n",
       "      <td>0.003208</td>\n",
       "      <td>0.000334</td>\n",
       "      <td>0.047170</td>\n",
       "      <td>14.704206</td>\n",
       "      <td>0.000311</td>\n",
       "      <td>1.046138</td>\n",
       "    </tr>\n",
       "    <tr>\n",
       "      <th>142</th>\n",
       "      <td>(cookware)</td>\n",
       "      <td>(oil)</td>\n",
       "      <td>0.001136</td>\n",
       "      <td>0.014903</td>\n",
       "      <td>0.000200</td>\n",
       "      <td>0.176471</td>\n",
       "      <td>11.840939</td>\n",
       "      <td>0.000184</td>\n",
       "      <td>1.196189</td>\n",
       "    </tr>\n",
       "    <tr>\n",
       "      <th>143</th>\n",
       "      <td>(oil)</td>\n",
       "      <td>(cookware)</td>\n",
       "      <td>0.014903</td>\n",
       "      <td>0.001136</td>\n",
       "      <td>0.000200</td>\n",
       "      <td>0.013453</td>\n",
       "      <td>11.840939</td>\n",
       "      <td>0.000184</td>\n",
       "      <td>1.012485</td>\n",
       "    </tr>\n",
       "    <tr>\n",
       "      <th>258</th>\n",
       "      <td>(roll products )</td>\n",
       "      <td>(rice)</td>\n",
       "      <td>0.005480</td>\n",
       "      <td>0.003275</td>\n",
       "      <td>0.000200</td>\n",
       "      <td>0.036585</td>\n",
       "      <td>11.171976</td>\n",
       "      <td>0.000183</td>\n",
       "      <td>1.034576</td>\n",
       "    </tr>\n",
       "    <tr>\n",
       "      <th>259</th>\n",
       "      <td>(rice)</td>\n",
       "      <td>(roll products )</td>\n",
       "      <td>0.003275</td>\n",
       "      <td>0.005480</td>\n",
       "      <td>0.000200</td>\n",
       "      <td>0.061224</td>\n",
       "      <td>11.171976</td>\n",
       "      <td>0.000183</td>\n",
       "      <td>1.059380</td>\n",
       "    </tr>\n",
       "    <tr>\n",
       "      <th>86</th>\n",
       "      <td>(curd cheese)</td>\n",
       "      <td>(mustard)</td>\n",
       "      <td>0.003074</td>\n",
       "      <td>0.006148</td>\n",
       "      <td>0.000200</td>\n",
       "      <td>0.065217</td>\n",
       "      <td>10.607042</td>\n",
       "      <td>0.000182</td>\n",
       "      <td>1.063190</td>\n",
       "    </tr>\n",
       "    <tr>\n",
       "      <th>87</th>\n",
       "      <td>(mustard)</td>\n",
       "      <td>(curd cheese)</td>\n",
       "      <td>0.006148</td>\n",
       "      <td>0.003074</td>\n",
       "      <td>0.000200</td>\n",
       "      <td>0.032609</td>\n",
       "      <td>10.607042</td>\n",
       "      <td>0.000182</td>\n",
       "      <td>1.030530</td>\n",
       "    </tr>\n",
       "    <tr>\n",
       "      <th>144</th>\n",
       "      <td>(liver loaf)</td>\n",
       "      <td>(condensed milk)</td>\n",
       "      <td>0.003342</td>\n",
       "      <td>0.006549</td>\n",
       "      <td>0.000200</td>\n",
       "      <td>0.060000</td>\n",
       "      <td>9.161020</td>\n",
       "      <td>0.000179</td>\n",
       "      <td>1.056862</td>\n",
       "    </tr>\n",
       "    <tr>\n",
       "      <th>145</th>\n",
       "      <td>(condensed milk)</td>\n",
       "      <td>(liver loaf)</td>\n",
       "      <td>0.006549</td>\n",
       "      <td>0.003342</td>\n",
       "      <td>0.000200</td>\n",
       "      <td>0.030612</td>\n",
       "      <td>9.161020</td>\n",
       "      <td>0.000179</td>\n",
       "      <td>1.028132</td>\n",
       "    </tr>\n",
       "  </tbody>\n",
       "</table>\n",
       "</div>"
      ],
      "text/plain": [
       "             antecedents          consequents  antecedent support  \\\n",
       "567              (soups)  (seasonal products)            0.003208   \n",
       "566  (seasonal products)              (soups)            0.007084   \n",
       "142           (cookware)                (oil)            0.001136   \n",
       "143                (oil)           (cookware)            0.014903   \n",
       "258     (roll products )               (rice)            0.005480   \n",
       "259               (rice)     (roll products )            0.003275   \n",
       "86         (curd cheese)            (mustard)            0.003074   \n",
       "87             (mustard)        (curd cheese)            0.006148   \n",
       "144         (liver loaf)     (condensed milk)            0.003342   \n",
       "145     (condensed milk)         (liver loaf)            0.006549   \n",
       "\n",
       "     consequent support   support  confidence       lift  leverage  conviction  \n",
       "567            0.007084  0.000334    0.104167  14.704206  0.000311    1.108371  \n",
       "566            0.003208  0.000334    0.047170  14.704206  0.000311    1.046138  \n",
       "142            0.014903  0.000200    0.176471  11.840939  0.000184    1.196189  \n",
       "143            0.001136  0.000200    0.013453  11.840939  0.000184    1.012485  \n",
       "258            0.003275  0.000200    0.036585  11.171976  0.000183    1.034576  \n",
       "259            0.005480  0.000200    0.061224  11.171976  0.000183    1.059380  \n",
       "86             0.006148  0.000200    0.065217  10.607042  0.000182    1.063190  \n",
       "87             0.003074  0.000200    0.032609  10.607042  0.000182    1.030530  \n",
       "144            0.006549  0.000200    0.060000   9.161020  0.000179    1.056862  \n",
       "145            0.003342  0.000200    0.030612   9.161020  0.000179    1.028132  "
      ]
     },
     "metadata": {},
     "output_type": "display_data"
    },
    {
     "name": "stdout",
     "output_type": "stream",
     "text": [
      "Rules identified:  768\n"
     ]
    }
   ],
   "source": [
    "# frequent_itemsets - частые наборы данных\n",
    "# rules - наборы данных\n",
    "# min_support - минимальная поддержка. Подмножество не является частным если:\n",
    "### P(I) < min_support, где I — любой непустой набор элементов\n",
    "### Любое подмножество в наборе элементов имеет значение меньше минимальной поддержки\n",
    "frequent_itemsets = apriori(transactions, min_support=6/len(data), use_colnames=True, max_len=2).sort_values(by=\"support\")\n",
    "print('Frequent itemsets:')\n",
    "display(frequent_itemsets.head(10))\n",
    "rules = association_rules(frequent_itemsets, metric=\"lift\",  min_threshold = 1.5).sort_values('lift', ascending=False)\n",
    "print('Rules:')\n",
    "print('antecedents - посылка')\n",
    "print('consequents - следствие')\n",
    "display(rules.head(10))\n",
    "print(\"Rules identified: \", len(rules))"
   ]
  },
  {
   "cell_type": "code",
   "execution_count": 65,
   "metadata": {},
   "outputs": [
    {
     "data": {
      "image/png": "[encoded data removed]",
      "text/plain": [
       "<Figure size 640x480 with 1 Axes>"
      ]
     },
     "metadata": {},
     "output_type": "display_data"
    }
   ],
   "source": [
    "# визуализируем связь между продуктами в виде графа\n",
    "def draw_graph(rules, rules_count):\n",
    "    network = nx.DiGraph()\n",
    "\n",
    "    for i in range(rules_count):\n",
    "        # добавление узла правила\n",
    "        network.add_nodes_from(['R' + str(i)])\n",
    "        for antecedents in rules.iloc[i]['antecedents']:\n",
    "            # Добавление узла-предшественника и ссылки на правило\n",
    "            network.add_nodes_from([antecedents])\n",
    "            network.add_edge(antecedents, 'R' + str(i),  weight=2)\n",
    "            for consequents in rules.iloc[i]['consequents']:\n",
    "                # Добавление узла-последователя и ссылки на правило\n",
    "                network.add_nodes_from([consequents])\n",
    "                network.add_edge('R' + str(i), consequents,  weight = 2)\n",
    "\n",
    "    color_map=[]  \n",
    "  \n",
    "    # Для каждого узла, если это правило, цвет черный, в противном случае - оранжевый.\n",
    "    for node in network:\n",
    "        if re.compile(r'^[R]\\d+$').fullmatch(node) != None:\n",
    "            color_map.append('black')\n",
    "        else:\n",
    "            color_map.append('orange')\n",
    "  \n",
    "    # Расположение узлов с помощью spring layout\n",
    "    pos = nx.spring_layout(network, k=16, scale=1)\n",
    "    # Построение сетевого графа\n",
    "    nx.draw(network, pos, node_color = color_map, font_size=8)            \n",
    "  \n",
    "    # Сдвиг расположения текста вверх\n",
    "    for p in pos:  \n",
    "        pos[p][1] += 0.12\n",
    "\n",
    "    nx.draw_networkx_labels(network, pos)\n",
    "    plt.title('Network Graph for Association Rules')\n",
    "    plt.show()\n",
    "\n",
    "draw_graph(rules, 10)"
   ]
  },
  {
   "cell_type": "code",
   "execution_count": 119,
   "metadata": {},
   "outputs": [
    {
     "name": "stdout",
     "output_type": "stream",
     "text": [
      "Milk:\n"
     ]
    },
    {
     "data": {
      "text/html": [
       "<div>\n",
       "<style scoped>\n",
       "    .dataframe tbody tr th:only-of-type {\n",
       "        vertical-align: middle;\n",
       "    }\n",
       "\n",
       "    .dataframe tbody tr th {\n",
       "        vertical-align: top;\n",
       "    }\n",
       "\n",
       "    .dataframe thead th {\n",
       "        text-align: right;\n",
       "    }\n",
       "</style>\n",
       "<table border=\"1\" class=\"dataframe\">\n",
       "  <thead>\n",
       "    <tr style=\"text-align: right;\">\n",
       "      <th></th>\n",
       "      <th>antecedents</th>\n",
       "      <th>consequents</th>\n",
       "      <th>antecedent support</th>\n",
       "      <th>consequent support</th>\n",
       "      <th>support</th>\n",
       "      <th>confidence</th>\n",
       "      <th>lift</th>\n",
       "      <th>leverage</th>\n",
       "      <th>conviction</th>\n",
       "    </tr>\n",
       "  </thead>\n",
       "  <tbody>\n",
       "    <tr>\n",
       "      <th>0</th>\n",
       "      <td>(brandy)</td>\n",
       "      <td>(whole milk)</td>\n",
       "      <td>0.002540</td>\n",
       "      <td>0.157923</td>\n",
       "      <td>0.000869</td>\n",
       "      <td>0.342105</td>\n",
       "      <td>2.166281</td>\n",
       "      <td>0.000468</td>\n",
       "      <td>1.279957</td>\n",
       "    </tr>\n",
       "    <tr>\n",
       "      <th>1</th>\n",
       "      <td>(softener)</td>\n",
       "      <td>(whole milk)</td>\n",
       "      <td>0.002740</td>\n",
       "      <td>0.157923</td>\n",
       "      <td>0.000802</td>\n",
       "      <td>0.292683</td>\n",
       "      <td>1.853328</td>\n",
       "      <td>0.000369</td>\n",
       "      <td>1.190523</td>\n",
       "    </tr>\n",
       "    <tr>\n",
       "      <th>2</th>\n",
       "      <td>(syrup)</td>\n",
       "      <td>(whole milk)</td>\n",
       "      <td>0.001403</td>\n",
       "      <td>0.157923</td>\n",
       "      <td>0.000401</td>\n",
       "      <td>0.285714</td>\n",
       "      <td>1.809201</td>\n",
       "      <td>0.000179</td>\n",
       "      <td>1.178908</td>\n",
       "    </tr>\n",
       "    <tr>\n",
       "      <th>3</th>\n",
       "      <td>(canned fruit)</td>\n",
       "      <td>(whole milk)</td>\n",
       "      <td>0.001403</td>\n",
       "      <td>0.157923</td>\n",
       "      <td>0.000401</td>\n",
       "      <td>0.285714</td>\n",
       "      <td>1.809201</td>\n",
       "      <td>0.000179</td>\n",
       "      <td>1.178908</td>\n",
       "    </tr>\n",
       "    <tr>\n",
       "      <th>4</th>\n",
       "      <td>(artif. sweetener)</td>\n",
       "      <td>(whole milk)</td>\n",
       "      <td>0.001938</td>\n",
       "      <td>0.157923</td>\n",
       "      <td>0.000535</td>\n",
       "      <td>0.275862</td>\n",
       "      <td>1.746815</td>\n",
       "      <td>0.000229</td>\n",
       "      <td>1.162868</td>\n",
       "    </tr>\n",
       "  </tbody>\n",
       "</table>\n",
       "</div>"
      ],
      "text/plain": [
       "          antecedents   consequents  antecedent support  consequent support  \\\n",
       "0            (brandy)  (whole milk)            0.002540            0.157923   \n",
       "1          (softener)  (whole milk)            0.002740            0.157923   \n",
       "2             (syrup)  (whole milk)            0.001403            0.157923   \n",
       "3      (canned fruit)  (whole milk)            0.001403            0.157923   \n",
       "4  (artif. sweetener)  (whole milk)            0.001938            0.157923   \n",
       "\n",
       "    support  confidence      lift  leverage  conviction  \n",
       "0  0.000869    0.342105  2.166281  0.000468    1.279957  \n",
       "1  0.000802    0.292683  1.853328  0.000369    1.190523  \n",
       "2  0.000401    0.285714  1.809201  0.000179    1.178908  \n",
       "3  0.000401    0.285714  1.809201  0.000179    1.178908  \n",
       "4  0.000535    0.275862  1.746815  0.000229    1.162868  "
      ]
     },
     "metadata": {},
     "output_type": "display_data"
    },
    {
     "data": {
      "image/png": "[encoded data removed]",
      "text/plain": [
       "<Figure size 1000x500 with 1 Axes>"
      ]
     },
     "metadata": {},
     "output_type": "display_data"
    },
    {
     "name": "stdout",
     "output_type": "stream",
     "text": [
      "Soda:\n"
     ]
    },
    {
     "data": {
      "text/html": [
       "<div>\n",
       "<style scoped>\n",
       "    .dataframe tbody tr th:only-of-type {\n",
       "        vertical-align: middle;\n",
       "    }\n",
       "\n",
       "    .dataframe tbody tr th {\n",
       "        vertical-align: top;\n",
       "    }\n",
       "\n",
       "    .dataframe thead th {\n",
       "        text-align: right;\n",
       "    }\n",
       "</style>\n",
       "<table border=\"1\" class=\"dataframe\">\n",
       "  <thead>\n",
       "    <tr style=\"text-align: right;\">\n",
       "      <th></th>\n",
       "      <th>antecedents</th>\n",
       "      <th>consequents</th>\n",
       "      <th>antecedent support</th>\n",
       "      <th>consequent support</th>\n",
       "      <th>support</th>\n",
       "      <th>confidence</th>\n",
       "      <th>lift</th>\n",
       "      <th>leverage</th>\n",
       "      <th>conviction</th>\n",
       "    </tr>\n",
       "  </thead>\n",
       "  <tbody>\n",
       "    <tr>\n",
       "      <th>0</th>\n",
       "      <td>(artif. sweetener)</td>\n",
       "      <td>(soda)</td>\n",
       "      <td>0.001938</td>\n",
       "      <td>0.097106</td>\n",
       "      <td>0.000468</td>\n",
       "      <td>0.241379</td>\n",
       "      <td>2.485725</td>\n",
       "      <td>0.000280</td>\n",
       "      <td>1.190178</td>\n",
       "    </tr>\n",
       "    <tr>\n",
       "      <th>1</th>\n",
       "      <td>(spices)</td>\n",
       "      <td>(soda)</td>\n",
       "      <td>0.002673</td>\n",
       "      <td>0.097106</td>\n",
       "      <td>0.000601</td>\n",
       "      <td>0.225000</td>\n",
       "      <td>2.317051</td>\n",
       "      <td>0.000342</td>\n",
       "      <td>1.165024</td>\n",
       "    </tr>\n",
       "    <tr>\n",
       "      <th>2</th>\n",
       "      <td>(snack products)</td>\n",
       "      <td>(soda)</td>\n",
       "      <td>0.001804</td>\n",
       "      <td>0.097106</td>\n",
       "      <td>0.000334</td>\n",
       "      <td>0.185185</td>\n",
       "      <td>1.907038</td>\n",
       "      <td>0.000159</td>\n",
       "      <td>1.108097</td>\n",
       "    </tr>\n",
       "    <tr>\n",
       "      <th>3</th>\n",
       "      <td>(nut snack)</td>\n",
       "      <td>(soda)</td>\n",
       "      <td>0.001470</td>\n",
       "      <td>0.097106</td>\n",
       "      <td>0.000267</td>\n",
       "      <td>0.181818</td>\n",
       "      <td>1.872364</td>\n",
       "      <td>0.000125</td>\n",
       "      <td>1.103537</td>\n",
       "    </tr>\n",
       "    <tr>\n",
       "      <th>4</th>\n",
       "      <td>(bathroom cleaner)</td>\n",
       "      <td>(soda)</td>\n",
       "      <td>0.001136</td>\n",
       "      <td>0.097106</td>\n",
       "      <td>0.000200</td>\n",
       "      <td>0.176471</td>\n",
       "      <td>1.817295</td>\n",
       "      <td>0.000090</td>\n",
       "      <td>1.096371</td>\n",
       "    </tr>\n",
       "  </tbody>\n",
       "</table>\n",
       "</div>"
      ],
      "text/plain": [
       "          antecedents consequents  antecedent support  consequent support  \\\n",
       "0  (artif. sweetener)      (soda)            0.001938            0.097106   \n",
       "1            (spices)      (soda)            0.002673            0.097106   \n",
       "2    (snack products)      (soda)            0.001804            0.097106   \n",
       "3         (nut snack)      (soda)            0.001470            0.097106   \n",
       "4  (bathroom cleaner)      (soda)            0.001136            0.097106   \n",
       "\n",
       "    support  confidence      lift  leverage  conviction  \n",
       "0  0.000468    0.241379  2.485725  0.000280    1.190178  \n",
       "1  0.000601    0.225000  2.317051  0.000342    1.165024  \n",
       "2  0.000334    0.185185  1.907038  0.000159    1.108097  \n",
       "3  0.000267    0.181818  1.872364  0.000125    1.103537  \n",
       "4  0.000200    0.176471  1.817295  0.000090    1.096371  "
      ]
     },
     "metadata": {},
     "output_type": "display_data"
    },
    {
     "data": {
      "image/png": "[encoded data removed]",
      "text/plain": [
       "<Figure size 1000x500 with 1 Axes>"
      ]
     },
     "metadata": {},
     "output_type": "display_data"
    },
    {
     "name": "stdout",
     "output_type": "stream",
     "text": [
      "Beef:\n"
     ]
    },
    {
     "data": {
      "text/html": [
       "<div>\n",
       "<style scoped>\n",
       "    .dataframe tbody tr th:only-of-type {\n",
       "        vertical-align: middle;\n",
       "    }\n",
       "\n",
       "    .dataframe tbody tr th {\n",
       "        vertical-align: top;\n",
       "    }\n",
       "\n",
       "    .dataframe thead th {\n",
       "        text-align: right;\n",
       "    }\n",
       "</style>\n",
       "<table border=\"1\" class=\"dataframe\">\n",
       "  <thead>\n",
       "    <tr style=\"text-align: right;\">\n",
       "      <th></th>\n",
       "      <th>antecedents</th>\n",
       "      <th>consequents</th>\n",
       "      <th>antecedent support</th>\n",
       "      <th>consequent support</th>\n",
       "      <th>support</th>\n",
       "      <th>confidence</th>\n",
       "      <th>lift</th>\n",
       "      <th>leverage</th>\n",
       "      <th>conviction</th>\n",
       "    </tr>\n",
       "  </thead>\n",
       "  <tbody>\n",
       "    <tr>\n",
       "      <th>0</th>\n",
       "      <td>(specialty fat)</td>\n",
       "      <td>(beef)</td>\n",
       "      <td>0.001938</td>\n",
       "      <td>0.03395</td>\n",
       "      <td>0.000200</td>\n",
       "      <td>0.103448</td>\n",
       "      <td>3.047040</td>\n",
       "      <td>0.000135</td>\n",
       "      <td>1.077517</td>\n",
       "    </tr>\n",
       "    <tr>\n",
       "      <th>1</th>\n",
       "      <td>(candles)</td>\n",
       "      <td>(beef)</td>\n",
       "      <td>0.004411</td>\n",
       "      <td>0.03395</td>\n",
       "      <td>0.000267</td>\n",
       "      <td>0.060606</td>\n",
       "      <td>1.785135</td>\n",
       "      <td>0.000118</td>\n",
       "      <td>1.028375</td>\n",
       "    </tr>\n",
       "    <tr>\n",
       "      <th>2</th>\n",
       "      <td>(pet care)</td>\n",
       "      <td>(beef)</td>\n",
       "      <td>0.005681</td>\n",
       "      <td>0.03395</td>\n",
       "      <td>0.000334</td>\n",
       "      <td>0.058824</td>\n",
       "      <td>1.732631</td>\n",
       "      <td>0.000141</td>\n",
       "      <td>1.026428</td>\n",
       "    </tr>\n",
       "    <tr>\n",
       "      <th>3</th>\n",
       "      <td>(pasta)</td>\n",
       "      <td>(beef)</td>\n",
       "      <td>0.008087</td>\n",
       "      <td>0.03395</td>\n",
       "      <td>0.000468</td>\n",
       "      <td>0.057851</td>\n",
       "      <td>1.703992</td>\n",
       "      <td>0.000193</td>\n",
       "      <td>1.025368</td>\n",
       "    </tr>\n",
       "    <tr>\n",
       "      <th>4</th>\n",
       "      <td>(processed cheese)</td>\n",
       "      <td>(beef)</td>\n",
       "      <td>0.010158</td>\n",
       "      <td>0.03395</td>\n",
       "      <td>0.000535</td>\n",
       "      <td>0.052632</td>\n",
       "      <td>1.550249</td>\n",
       "      <td>0.000190</td>\n",
       "      <td>1.019719</td>\n",
       "    </tr>\n",
       "  </tbody>\n",
       "</table>\n",
       "</div>"
      ],
      "text/plain": [
       "          antecedents consequents  antecedent support  consequent support  \\\n",
       "0     (specialty fat)      (beef)            0.001938             0.03395   \n",
       "1           (candles)      (beef)            0.004411             0.03395   \n",
       "2          (pet care)      (beef)            0.005681             0.03395   \n",
       "3             (pasta)      (beef)            0.008087             0.03395   \n",
       "4  (processed cheese)      (beef)            0.010158             0.03395   \n",
       "\n",
       "    support  confidence      lift  leverage  conviction  \n",
       "0  0.000200    0.103448  3.047040  0.000135    1.077517  \n",
       "1  0.000267    0.060606  1.785135  0.000118    1.028375  \n",
       "2  0.000334    0.058824  1.732631  0.000141    1.026428  \n",
       "3  0.000468    0.057851  1.703992  0.000193    1.025368  \n",
       "4  0.000535    0.052632  1.550249  0.000190    1.019719  "
      ]
     },
     "metadata": {},
     "output_type": "display_data"
    },
    {
     "data": {
      "image/png": "[encoded data removed]",
      "text/plain": [
       "<Figure size 1000x500 with 1 Axes>"
      ]
     },
     "metadata": {},
     "output_type": "display_data"
    }
   ],
   "source": [
    "# посмотрим какие продукты стимулируют продажи других продуктов\n",
    "milk_rules = rules[rules['consequents'].astype(str).str.contains('whole milk')]\n",
    "milk_rules = milk_rules.sort_values(by=['lift'], ascending=[False]).reset_index(drop=True)\n",
    "\n",
    "soda_rules = rules[rules['consequents'].astype(str).str.contains('soda')]\n",
    "soda_rules = soda_rules.sort_values(by=['lift'], ascending=[False]).reset_index(drop=True)\n",
    "\n",
    "beef_rules = rules[rules['consequents'].astype(str).str.contains('beef')]\n",
    "beef_rules = beef_rules.sort_values(by=['lift'], ascending=[False]).reset_index(drop=True)\n",
    "\n",
    "print('Milk:')\n",
    "display(milk_rules.head())\n",
    "\n",
    "groups = [re.search(r'[^frozenset, (, {].*[^}, )]', str(item))[0] for item in milk_rules.head()['antecedents']]\n",
    "count = np.array(milk_rules.head()['lift'])\n",
    "plt.figure(figsize=(10, 5))\n",
    "plt.bar(groups, count)\n",
    "plt.xlabel('Product')\n",
    "plt.ylabel('Lift')\n",
    "plt.show()\n",
    "\n",
    "print('Soda:')\n",
    "display(soda_rules.head())\n",
    "\n",
    "groups = [re.search(r'[^frozenset, (, {].*[^}, )]', str(item))[0] for item in soda_rules.head()['antecedents']]\n",
    "count = np.array(soda_rules.head()['lift'])\n",
    "plt.figure(figsize=(10, 5))\n",
    "plt.bar(groups, count)\n",
    "plt.xlabel('Product')\n",
    "plt.ylabel('Lift')\n",
    "plt.show()\n",
    "\n",
    "print('Beef:')\n",
    "display(beef_rules.head())\n",
    "\n",
    "groups = [re.search(r'[^frozenset, (, {].*[^}, )]', str(item))[0] for item in beef_rules.head()['antecedents']]\n",
    "count = np.array(beef_rules.head()['lift'])\n",
    "plt.figure(figsize=(10, 5))\n",
    "plt.bar(groups, count)\n",
    "plt.xlabel('Product')\n",
    "plt.ylabel('Lift')\n",
    "plt.show()\n"
   ]
  }
 ],
 "metadata": {
  "kernelspec": {
   "display_name": "Python 3.9.7 64-bit ('3.9.7')",
   "language": "python",
   "name": "python3"
  },
  "language_info": {
   "codemirror_mode": {
    "name": "ipython",
    "version": 3
   },
   "file_extension": ".py",
   "mimetype": "text/x-python",
   "name": "python",
   "nbconvert_exporter": "python",
   "pygments_lexer": "ipython3",
   "version": "3.9.7"
  },
  "orig_nbformat": 4,
  "vscode": {
   "interpreter": {
    "hash": "a9f022262829591c04be143e715319d8db2076fe7a7b443338bfce47b8ae3e6b"
   }
  }
 },
 "nbformat": 4,
 "nbformat_minor": 2
}
